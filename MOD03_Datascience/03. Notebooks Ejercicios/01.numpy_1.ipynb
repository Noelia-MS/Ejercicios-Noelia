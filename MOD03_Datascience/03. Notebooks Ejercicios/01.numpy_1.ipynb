{
 "cells": [
  {
   "cell_type": "markdown",
   "id": "94338a65",
   "metadata": {},
   "source": [
    "## Ejercicios - NumPy 1"
   ]
  },
  {
   "cell_type": "code",
   "execution_count": 110,
   "id": "c5e694ac",
   "metadata": {},
   "outputs": [],
   "source": [
    "import numpy as np"
   ]
  },
  {
   "cell_type": "code",
   "execution_count": 111,
   "id": "230265d0-4569-4582-84ca-845fcb91aed6",
   "metadata": {
    "tags": []
   },
   "outputs": [
    {
     "name": "stdout",
     "output_type": "stream",
     "text": [
      "numpy==2.2.0\n"
     ]
    }
   ],
   "source": [
    "# Versión\n",
    "print(f\"numpy=={np.__version__}\")"
   ]
  },
  {
   "cell_type": "markdown",
   "id": "fa919e9a",
   "metadata": {},
   "source": [
    "### Ejercicio 1:\n",
    "- Crea un vector con 10 elementos pares."
   ]
  },
  {
   "cell_type": "code",
   "execution_count": 112,
   "id": "12914c1b",
   "metadata": {},
   "outputs": [
    {
     "data": {
      "text/plain": [
       "array([ 0,  2,  4,  6,  8, 10, 12, 14, 16, 18])"
      ]
     },
     "execution_count": 112,
     "metadata": {},
     "output_type": "execute_result"
    }
   ],
   "source": [
    "lista = []\n",
    "for i in range(20):\n",
    "    if i % 2 == 0:\n",
    "        lista.append(i)\n",
    "        \n",
    "np.array(lista)"
   ]
  },
  {
   "cell_type": "code",
   "execution_count": null,
   "id": "dec735d3",
   "metadata": {},
   "outputs": [],
   "source": []
  },
  {
   "cell_type": "code",
   "execution_count": null,
   "id": "e37dc4bb",
   "metadata": {},
   "outputs": [],
   "source": []
  },
  {
   "cell_type": "markdown",
   "id": "83420425",
   "metadata": {},
   "source": [
    "### Ejercicio 2:\n",
    "- Obten el número de dimensiones y el tamaño del vector anterior."
   ]
  },
  {
   "cell_type": "code",
   "execution_count": 113,
   "id": "3216bb58",
   "metadata": {},
   "outputs": [],
   "source": [
    "array_pares = np.array(lista)"
   ]
  },
  {
   "cell_type": "code",
   "execution_count": 114,
   "id": "ef81c396",
   "metadata": {},
   "outputs": [
    {
     "data": {
      "text/plain": [
       "1"
      ]
     },
     "execution_count": 114,
     "metadata": {},
     "output_type": "execute_result"
    }
   ],
   "source": [
    "array_pares.ndim"
   ]
  },
  {
   "cell_type": "code",
   "execution_count": 115,
   "id": "cb679748",
   "metadata": {},
   "outputs": [
    {
     "data": {
      "text/plain": [
       "10"
      ]
     },
     "execution_count": 115,
     "metadata": {},
     "output_type": "execute_result"
    }
   ],
   "source": [
    "array_pares.size"
   ]
  },
  {
   "cell_type": "markdown",
   "id": "50b94f88",
   "metadata": {},
   "source": [
    "### Ejercicio 3:\n",
    "- Crea una lista con 5 números pares y otra lista con 5 números impares utilizando **list comprehension** y conviertelos en una matriz de (5, 2) dimensiones."
   ]
  },
  {
   "cell_type": "code",
   "execution_count": 116,
   "id": "5f8738d9",
   "metadata": {},
   "outputs": [
    {
     "name": "stdout",
     "output_type": "stream",
     "text": [
      "[0, 2, 4, 6, 8]\n"
     ]
    },
    {
     "data": {
      "text/plain": [
       "[1, 3, 5, 7, 9]"
      ]
     },
     "execution_count": 116,
     "metadata": {},
     "output_type": "execute_result"
    }
   ],
   "source": [
    "lista_pares = []\n",
    "for i in range(10):\n",
    "    if i % 2 == 0:\n",
    "        lista_pares.append(i)\n",
    "\n",
    "np.array(lista_pares)        \n",
    "print(lista_pares)\n",
    "\n",
    "lista_impares = []\n",
    "for i in range(10):\n",
    "    if i % 2 != 0:\n",
    "        lista_impares.append(i)\n",
    "np.array(lista_impares)          \n",
    "lista_impares"
   ]
  },
  {
   "cell_type": "code",
   "execution_count": 117,
   "id": "a46adfc2",
   "metadata": {},
   "outputs": [
    {
     "data": {
      "text/plain": [
       "array([0, 2, 4, 6, 8, 1, 3, 5, 7, 9])"
      ]
     },
     "execution_count": 117,
     "metadata": {},
     "output_type": "execute_result"
    }
   ],
   "source": [
    "numbers = np.concatenate((lista_pares, lista_impares))\n",
    "numbers"
   ]
  },
  {
   "cell_type": "code",
   "execution_count": 118,
   "id": "52ab96be",
   "metadata": {},
   "outputs": [
    {
     "data": {
      "text/plain": [
       "array([[0, 2],\n",
       "       [4, 6],\n",
       "       [8, 1],\n",
       "       [3, 5],\n",
       "       [7, 9]])"
      ]
     },
     "execution_count": 118,
     "metadata": {},
     "output_type": "execute_result"
    }
   ],
   "source": [
    "matriz= numbers.reshape(5,2)\n",
    "matriz"
   ]
  },
  {
   "cell_type": "markdown",
   "id": "5a6d6f9b",
   "metadata": {},
   "source": [
    "### Ejercicio 4:\n",
    "- Obten el tipo de datos de la matriz anterior."
   ]
  },
  {
   "cell_type": "code",
   "execution_count": 119,
   "id": "39f29d4f",
   "metadata": {},
   "outputs": [
    {
     "data": {
      "text/plain": [
       "dtype('int64')"
      ]
     },
     "execution_count": 119,
     "metadata": {},
     "output_type": "execute_result"
    }
   ],
   "source": [
    "matriz.dtype"
   ]
  },
  {
   "cell_type": "code",
   "execution_count": null,
   "id": "dcb2ff00",
   "metadata": {},
   "outputs": [],
   "source": []
  },
  {
   "cell_type": "code",
   "execution_count": null,
   "id": "6ae5b8ab",
   "metadata": {},
   "outputs": [],
   "source": []
  },
  {
   "cell_type": "markdown",
   "id": "f65930e0",
   "metadata": {},
   "source": [
    "### Ejercicio 5:\n",
    "- Crea una matriz de ceros de dimensión (4, 4) y remplaza los elementos de la diagonal principal por los números 5."
   ]
  },
  {
   "cell_type": "code",
   "execution_count": 120,
   "id": "b68dd617",
   "metadata": {},
   "outputs": [
    {
     "data": {
      "text/plain": [
       "array([[0, 0, 0, 0],\n",
       "       [0, 0, 0, 0],\n",
       "       [0, 0, 0, 0],\n",
       "       [0, 0, 0, 0]])"
      ]
     },
     "execution_count": 120,
     "metadata": {},
     "output_type": "execute_result"
    }
   ],
   "source": [
    "matriz0 = np.zeros((4,4), int)\n",
    "matriz0"
   ]
  },
  {
   "cell_type": "code",
   "execution_count": 121,
   "id": "734d9f67",
   "metadata": {},
   "outputs": [
    {
     "data": {
      "text/plain": [
       "array([[5, 0, 0, 0],\n",
       "       [0, 5, 0, 0],\n",
       "       [0, 0, 5, 0],\n",
       "       [0, 0, 0, 5]])"
      ]
     },
     "execution_count": 121,
     "metadata": {},
     "output_type": "execute_result"
    }
   ],
   "source": [
    "np.fill_diagonal(matriz0, 5)\n",
    "matriz0"
   ]
  },
  {
   "cell_type": "code",
   "execution_count": null,
   "id": "96d7b73d",
   "metadata": {},
   "outputs": [],
   "source": []
  },
  {
   "cell_type": "markdown",
   "id": "ff424246",
   "metadata": {},
   "source": [
    "### Ejercicio 6:\n",
    "- Utiliza la función _**np.linspace()**_ para crear un vector con 10 elementos entre los números: -5 y 5."
   ]
  },
  {
   "cell_type": "code",
   "execution_count": 122,
   "id": "84675849",
   "metadata": {},
   "outputs": [
    {
     "name": "stdout",
     "output_type": "stream",
     "text": [
      "[-5.         -3.88888889 -2.77777778 -1.66666667 -0.55555556  0.55555556\n",
      "  1.66666667  2.77777778  3.88888889  5.        ]\n"
     ]
    }
   ],
   "source": [
    "linspace = np.linspace(start= -5, stop=5, num=10)\n",
    "print(linspace)"
   ]
  },
  {
   "cell_type": "code",
   "execution_count": null,
   "id": "53aedee4",
   "metadata": {},
   "outputs": [],
   "source": []
  },
  {
   "cell_type": "code",
   "execution_count": null,
   "id": "d39256a3",
   "metadata": {},
   "outputs": [],
   "source": []
  },
  {
   "cell_type": "markdown",
   "id": "d4d2232c",
   "metadata": {},
   "source": [
    "### Ejercicio 7:\n",
    "- Crea una matriz vacía de tamaño (3, 6) con elementos del tipo flotante."
   ]
  },
  {
   "cell_type": "code",
   "execution_count": 123,
   "id": "15f8820b",
   "metadata": {},
   "outputs": [
    {
     "name": "stdout",
     "output_type": "stream",
     "text": [
      "[[1.43446915e-311 5.33590898e-322 1.43594782e-311 1.43594782e-311\n",
      "  1.43596902e-311 1.43594782e-311]\n",
      " [1.43594782e-311 1.43594782e-311 1.43596839e-311 1.43594782e-311\n",
      "  1.43594782e-311 1.43594782e-311]\n",
      " [1.43594782e-311 1.43596847e-311 1.43594782e-311 1.43597165e-311\n",
      "  0.00000000e+000 0.00000000e+000]]\n"
     ]
    }
   ],
   "source": [
    "matriz_float = np.empty((3, 6), dtype = \"float\")\n",
    "\n",
    "print(matriz_float)"
   ]
  },
  {
   "cell_type": "code",
   "execution_count": null,
   "id": "79c50a7d",
   "metadata": {},
   "outputs": [],
   "source": []
  },
  {
   "cell_type": "code",
   "execution_count": null,
   "id": "531685ae",
   "metadata": {},
   "outputs": [],
   "source": []
  },
  {
   "cell_type": "markdown",
   "id": "1239053e",
   "metadata": {},
   "source": [
    "### Ejercicio 8:\n",
    "- Utiliza la matriz anterior para llenarla con números primos (investiga en internet una función que genere números primos e implementala)."
   ]
  },
  {
   "cell_type": "code",
   "execution_count": 124,
   "id": "cfb83730",
   "metadata": {},
   "outputs": [],
   "source": [
    "def es_primo(n):\n",
    "    if n <= 1:\n",
    "        return False\n",
    "    for i in range(2, int(n**0.5) + 1):\n",
    "        if n % i == 0:\n",
    "            return False\n",
    "    return True"
   ]
  },
  {
   "cell_type": "code",
   "execution_count": 125,
   "id": "7cc2c0bc",
   "metadata": {},
   "outputs": [],
   "source": [
    "primos = []\n",
    "num = 50\n",
    "while len(primos) < 18:\n",
    "    if es_primo(num):\n",
    "        primos.append(num)\n",
    "    num += 1"
   ]
  },
  {
   "cell_type": "code",
   "execution_count": 126,
   "id": "0b816486",
   "metadata": {},
   "outputs": [
    {
     "data": {
      "text/plain": [
       "array([[ 53,  59,  61,  67,  71,  73],\n",
       "       [ 79,  83,  89,  97, 101, 103],\n",
       "       [107, 109, 113, 127, 131, 137]])"
      ]
     },
     "execution_count": 126,
     "metadata": {},
     "output_type": "execute_result"
    }
   ],
   "source": [
    "matriz_primos= np.array(primos).reshape(3,6)\n",
    "matriz_primos"
   ]
  },
  {
   "cell_type": "markdown",
   "id": "a92d1972",
   "metadata": {},
   "source": [
    "### Ejercicio 9:\n",
    "- Reemplaza los números de color azul por un 99 utilizando slicing.\n",
    "\n",
    "$$\\Large\n",
    "\\begin{bmatrix}\n",
    " 1 &  2 &  \\color{Blue}{3} &  4 \\\\\n",
    " 5 &  \\color{Blue}{6} &  7 &  \\color{Blue}{8} \\\\\n",
    " \\color{Blue}{9} & 10 & 11 & 12 \\\\\n",
    "13 & 14 & \\color{Blue}{15} & 16\n",
    "\\end{bmatrix}\n",
    "$$"
   ]
  },
  {
   "cell_type": "code",
   "execution_count": 127,
   "id": "ed329abf",
   "metadata": {},
   "outputs": [
    {
     "data": {
      "text/plain": [
       "array([[ 1,  2,  3,  4],\n",
       "       [ 5,  6,  7,  8],\n",
       "       [ 9, 10, 11, 12],\n",
       "       [13, 14, 15, 16]])"
      ]
     },
     "execution_count": 127,
     "metadata": {},
     "output_type": "execute_result"
    }
   ],
   "source": [
    "matriz_azul = np.arange(1,17).reshape(4,4)\n",
    "matriz_azul"
   ]
  },
  {
   "cell_type": "code",
   "execution_count": 128,
   "id": "c05f196c",
   "metadata": {},
   "outputs": [],
   "source": [
    "numeros_a_reemplazar = [(0, 2), (1, 1), (1, 3), (2, 0), (3,2)]\n",
    "nuevo_valor = 99"
   ]
  },
  {
   "cell_type": "code",
   "execution_count": 129,
   "id": "d148695c",
   "metadata": {},
   "outputs": [
    {
     "name": "stdout",
     "output_type": "stream",
     "text": [
      "[[ 1  2 99  4]\n",
      " [ 5 99  7 99]\n",
      " [99 10 11 12]\n",
      " [13 14 99 16]]\n"
     ]
    }
   ],
   "source": [
    "for fila, col in numeros_a_reemplazar:\n",
    "    matriz_azul[fila, col] = nuevo_valor\n",
    "    \n",
    "print(matriz_azul)"
   ]
  },
  {
   "cell_type": "markdown",
   "id": "817ee31c",
   "metadata": {},
   "source": [
    "### Ejercicio 10:\n",
    "- Obten la primera y tercera fila de la matriz."
   ]
  },
  {
   "cell_type": "code",
   "execution_count": 130,
   "id": "0a1496e8",
   "metadata": {},
   "outputs": [
    {
     "data": {
      "text/plain": [
       "array([[ 1,  2, 99,  4],\n",
       "       [99, 10, 11, 12]])"
      ]
     },
     "execution_count": 130,
     "metadata": {},
     "output_type": "execute_result"
    }
   ],
   "source": [
    "matriz_azul[[0,2]]"
   ]
  },
  {
   "cell_type": "code",
   "execution_count": null,
   "id": "6aee8f31",
   "metadata": {},
   "outputs": [],
   "source": []
  },
  {
   "cell_type": "code",
   "execution_count": null,
   "id": "c3761ae2",
   "metadata": {},
   "outputs": [],
   "source": []
  },
  {
   "cell_type": "markdown",
   "id": "a4abb3c0",
   "metadata": {},
   "source": [
    "### Ejercico 11:\n",
    "- Obten la tercera columna de la matriz."
   ]
  },
  {
   "cell_type": "code",
   "execution_count": 131,
   "id": "047311f5",
   "metadata": {},
   "outputs": [
    {
     "data": {
      "text/plain": [
       "array([99,  7, 11, 99])"
      ]
     },
     "execution_count": 131,
     "metadata": {},
     "output_type": "execute_result"
    }
   ],
   "source": [
    "matriz_azul[:, 2]"
   ]
  },
  {
   "cell_type": "code",
   "execution_count": null,
   "id": "b1368522",
   "metadata": {},
   "outputs": [],
   "source": []
  },
  {
   "cell_type": "code",
   "execution_count": null,
   "id": "19aa1a30",
   "metadata": {},
   "outputs": [],
   "source": []
  },
  {
   "cell_type": "markdown",
   "id": "85659833",
   "metadata": {},
   "source": [
    "### Ejercicio 12:\n",
    "- Obtener la segunda y tercera columna de la matriz."
   ]
  },
  {
   "cell_type": "code",
   "execution_count": 132,
   "id": "f9f72826",
   "metadata": {},
   "outputs": [
    {
     "data": {
      "text/plain": [
       "array([[ 2, 99],\n",
       "       [99,  7],\n",
       "       [10, 11],\n",
       "       [14, 99]])"
      ]
     },
     "execution_count": 132,
     "metadata": {},
     "output_type": "execute_result"
    }
   ],
   "source": [
    "matriz_azul[:, 1:3]"
   ]
  },
  {
   "cell_type": "code",
   "execution_count": null,
   "id": "3de230f8",
   "metadata": {},
   "outputs": [],
   "source": []
  },
  {
   "cell_type": "markdown",
   "id": "3a118c9a",
   "metadata": {},
   "source": [
    "### Ejercicio 13:\n",
    "- Obten una submatriz con los 4 números del centro."
   ]
  },
  {
   "cell_type": "code",
   "execution_count": 133,
   "id": "15b53998",
   "metadata": {},
   "outputs": [
    {
     "data": {
      "text/plain": [
       "array([[ 1,  2, 99,  4],\n",
       "       [ 5, 99,  7, 99],\n",
       "       [99, 10, 11, 12],\n",
       "       [13, 14, 99, 16]])"
      ]
     },
     "execution_count": 133,
     "metadata": {},
     "output_type": "execute_result"
    }
   ],
   "source": [
    "matriz_azul"
   ]
  },
  {
   "cell_type": "code",
   "execution_count": 134,
   "id": "6efd36bc",
   "metadata": {},
   "outputs": [
    {
     "data": {
      "text/plain": [
       "array([[99,  7],\n",
       "       [10, 11]])"
      ]
     },
     "execution_count": 134,
     "metadata": {},
     "output_type": "execute_result"
    }
   ],
   "source": [
    "matriz_azul[1:3, 1:3]"
   ]
  },
  {
   "cell_type": "code",
   "execution_count": null,
   "id": "197192ee",
   "metadata": {},
   "outputs": [],
   "source": []
  },
  {
   "cell_type": "markdown",
   "id": "270239a7",
   "metadata": {},
   "source": [
    "### Ejercicio 14:\n",
    "- Aplica la función _**np.flatten()**_ a la matriz anterior para obtener un vector."
   ]
  },
  {
   "cell_type": "code",
   "execution_count": 135,
   "id": "f9d01c3b",
   "metadata": {},
   "outputs": [
    {
     "data": {
      "text/plain": [
       "array([ 1,  2, 99,  4,  5, 99,  7, 99, 99, 10, 11, 12, 13, 14, 99, 16])"
      ]
     },
     "execution_count": 135,
     "metadata": {},
     "output_type": "execute_result"
    }
   ],
   "source": [
    "vector_azul= matriz_azul.flatten()\n",
    "vector_azul"
   ]
  },
  {
   "cell_type": "code",
   "execution_count": null,
   "id": "7e33d442",
   "metadata": {},
   "outputs": [],
   "source": []
  },
  {
   "cell_type": "code",
   "execution_count": null,
   "id": "c459d98f",
   "metadata": {},
   "outputs": [],
   "source": []
  },
  {
   "cell_type": "markdown",
   "id": "aa26d703",
   "metadata": {},
   "source": [
    "### Ejercicio 15:\n",
    "- Aplica el método _**.reshape()**_ al vector anterior para obtener una matriz de (1, 4) dimensiones."
   ]
  },
  {
   "cell_type": "code",
   "execution_count": 136,
   "id": "8e045ee7",
   "metadata": {},
   "outputs": [],
   "source": [
    "# Como no coinciden los elementos, solo será de los primeros 4 elementos."
   ]
  },
  {
   "cell_type": "code",
   "execution_count": 137,
   "id": "00df10e4",
   "metadata": {},
   "outputs": [
    {
     "data": {
      "text/plain": [
       "array([[ 1,  2, 99,  4]])"
      ]
     },
     "execution_count": 137,
     "metadata": {},
     "output_type": "execute_result"
    }
   ],
   "source": [
    "matriz4 = vector_azul[:4].reshape(1,4)\n",
    "matriz4"
   ]
  },
  {
   "cell_type": "code",
   "execution_count": null,
   "id": "78df5ad8",
   "metadata": {},
   "outputs": [],
   "source": []
  },
  {
   "cell_type": "code",
   "execution_count": null,
   "id": "0529314d",
   "metadata": {},
   "outputs": [],
   "source": []
  },
  {
   "cell_type": "markdown",
   "id": "f61d6d34",
   "metadata": {},
   "source": [
    "### Ejercicio 16:\n",
    "- Crea dos matrices de dimensión (4, 4) con números aleatorios y concatenalas verticalmente."
   ]
  },
  {
   "cell_type": "code",
   "execution_count": 148,
   "id": "1dd66c12",
   "metadata": {},
   "outputs": [],
   "source": [
    "matriz_a= (np.random.randint(1,20, size = (4,4)))\n",
    "matriz_b= (np.random.randint(1,20, size = (4,4)))"
   ]
  },
  {
   "cell_type": "code",
   "execution_count": 149,
   "id": "4ca5da60",
   "metadata": {},
   "outputs": [
    {
     "name": "stdout",
     "output_type": "stream",
     "text": [
      "[[ 4 11 17  3]\n",
      " [ 8  5  8  1]\n",
      " [ 7 16 11  6]\n",
      " [14  8 11  8]]\n",
      "[[ 5 16 16  1]\n",
      " [ 6  5 12  9]\n",
      " [ 2 17 17 16]\n",
      " [ 7  6 14 19]]\n"
     ]
    }
   ],
   "source": [
    "print(matriz_a)\n",
    "print(matriz_b)"
   ]
  },
  {
   "cell_type": "code",
   "execution_count": 150,
   "id": "6d5150b4",
   "metadata": {},
   "outputs": [
    {
     "data": {
      "text/plain": [
       "array([[ 4, 11, 17,  3],\n",
       "       [ 8,  5,  8,  1],\n",
       "       [ 7, 16, 11,  6],\n",
       "       [14,  8, 11,  8],\n",
       "       [ 5, 16, 16,  1],\n",
       "       [ 6,  5, 12,  9],\n",
       "       [ 2, 17, 17, 16],\n",
       "       [ 7,  6, 14, 19]], dtype=int32)"
      ]
     },
     "execution_count": 150,
     "metadata": {},
     "output_type": "execute_result"
    }
   ],
   "source": [
    "np.vstack((matriz_a, matriz_b))"
   ]
  },
  {
   "cell_type": "code",
   "execution_count": 154,
   "id": "a20a996d",
   "metadata": {},
   "outputs": [
    {
     "data": {
      "text/plain": [
       "array([[ 4, 11, 17,  3],\n",
       "       [ 8,  5,  8,  1],\n",
       "       [ 7, 16, 11,  6],\n",
       "       [14,  8, 11,  8],\n",
       "       [ 5, 16, 16,  1],\n",
       "       [ 6,  5, 12,  9],\n",
       "       [ 2, 17, 17, 16],\n",
       "       [ 7,  6, 14, 19]], dtype=int32)"
      ]
     },
     "execution_count": 154,
     "metadata": {},
     "output_type": "execute_result"
    }
   ],
   "source": [
    "np.concatenate((matriz_a, matriz_b), axis = 0)"
   ]
  },
  {
   "cell_type": "code",
   "execution_count": 138,
   "id": "46d3968e-3ca3-4976-a7dd-14bc3279a9cc",
   "metadata": {},
   "outputs": [],
   "source": [
    "################################################################################################################################"
   ]
  }
 ],
 "metadata": {
  "kernelspec": {
   "display_name": "Python 3",
   "language": "python",
   "name": "python3"
  },
  "language_info": {
   "codemirror_mode": {
    "name": "ipython",
    "version": 3
   },
   "file_extension": ".py",
   "mimetype": "text/x-python",
   "name": "python",
   "nbconvert_exporter": "python",
   "pygments_lexer": "ipython3",
   "version": "3.13.1"
  }
 },
 "nbformat": 4,
 "nbformat_minor": 5
}
