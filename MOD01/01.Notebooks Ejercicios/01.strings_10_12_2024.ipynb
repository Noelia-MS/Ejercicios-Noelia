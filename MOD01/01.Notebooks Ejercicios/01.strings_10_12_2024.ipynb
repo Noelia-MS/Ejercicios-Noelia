{
 "cells": [
  {
   "cell_type": "markdown",
   "id": "18454d15",
   "metadata": {},
   "source": [
    "## Ejercicios - Strings"
   ]
  },
  {
   "cell_type": "code",
   "execution_count": 2,
   "id": "bae6c2a9",
   "metadata": {},
   "outputs": [
    {
     "name": "stdout",
     "output_type": "stream",
     "text": [
      "Nunca confies en un ordenador que no puedas lanzar por una ventana -- Steve Wozniak\n"
     ]
    }
   ],
   "source": [
    "frase = \"Nunca confies en un ordenador que no puedas lanzar por una ventana -- Steve Wozniak\"\n",
    "\n",
    "print(frase)"
   ]
  },
  {
   "cell_type": "markdown",
   "id": "605874f4",
   "metadata": {},
   "source": [
    "### Ejercicio 1\n",
    "- Obtener el largo de la frase."
   ]
  },
  {
   "cell_type": "code",
   "execution_count": null,
   "id": "9ce4991c",
   "metadata": {},
   "outputs": [],
   "source": [
    "len(frase)"
   ]
  },
  {
   "cell_type": "code",
   "execution_count": null,
   "id": "b8da42c7-d770-4458-a510-8fdd6c9c5b4d",
   "metadata": {},
   "outputs": [],
   "source": []
  },
  {
   "cell_type": "code",
   "execution_count": null,
   "id": "500b030e-00d4-4f37-a97f-1b5f3210b203",
   "metadata": {},
   "outputs": [],
   "source": []
  },
  {
   "cell_type": "markdown",
   "id": "8fe445bf",
   "metadata": {},
   "source": [
    "### Ejercicio 2\n",
    "- Obtener la frase **\"lanzar por la ventana\"** usando slicing."
   ]
  },
  {
   "cell_type": "code",
   "execution_count": null,
   "id": "dd8049a0",
   "metadata": {},
   "outputs": [],
   "source": [
    "print(frase)"
   ]
  },
  {
   "cell_type": "code",
   "execution_count": null,
   "id": "432250e9-3939-462d-9cf4-8c9b7ee76af1",
   "metadata": {},
   "outputs": [],
   "source": [
    "frase[44:55]+frase[44:46]+frase[58:66]"
   ]
  },
  {
   "cell_type": "code",
   "execution_count": null,
   "id": "312024e9-3fee-4a34-bafd-c7efa15409d3",
   "metadata": {},
   "outputs": [],
   "source": []
  },
  {
   "cell_type": "markdown",
   "id": "e50eb318",
   "metadata": {},
   "source": [
    "### Ejercicio 3\n",
    "- Obtener la sección **\"confies en un ordenador\"** haciando slicing de derecha a izquierda, utilizando indexing negativo."
   ]
  },
  {
   "cell_type": "code",
   "execution_count": null,
   "id": "e88e8991",
   "metadata": {},
   "outputs": [],
   "source": [
    "string.find(\"confies\")"
   ]
  },
  {
   "cell_type": "code",
   "execution_count": null,
   "id": "ff0e6a4b",
   "metadata": {},
   "outputs": [],
   "source": [
    "len(\"confies en un ordenador\")"
   ]
  },
  {
   "cell_type": "code",
   "execution_count": null,
   "id": "a5836806-b2a8-48b4-a602-c5662b0372a6",
   "metadata": {},
   "outputs": [],
   "source": [
    "string[-77:-54]"
   ]
  },
  {
   "cell_type": "markdown",
   "id": "f64534b8",
   "metadata": {},
   "source": [
    "### Ejercicio 4\n",
    "Haciendo slicing de la variable **frase**:\n",
    "\n",
    "1. Guardar en la variable: **subfrase1** la siguiente sección: **\"un ordenador\"**.\n",
    "2. Guardar en la variable: **subfrase2** la siguiente sección: **\"por una ventanza\"**.\n",
    "3. Guardar en la variable: **subfrase3** la siguiente sección: **\"Steve Wozniak\"**.\n",
    "\n",
    "\n",
    "- Crear la siguiente frase utilizando las variables: **subfrase1**, **subfrase2**, **subfrase3**: **\"un ordenador, por una ventana -- Steve Wozniak\"** y guardarla en una variable. Añade los caracteres que hagan falta para completar la cadena usando _**format**_. Guarda esta frase en la variable **nueva_frase**."
   ]
  },
  {
   "cell_type": "code",
   "execution_count": 83,
   "id": "2a36dfd5",
   "metadata": {},
   "outputs": [
    {
     "name": "stdout",
     "output_type": "stream",
     "text": [
      "17\n",
      "51\n",
      "70\n"
     ]
    }
   ],
   "source": [
    "print(string.find(\"un ordenador\"))\n",
    "print(string.find(\"por una ventana\"))\n",
    "print(string.find(\"Steve Wozniak\"))"
   ]
  },
  {
   "cell_type": "code",
   "execution_count": 84,
   "id": "eae3f714",
   "metadata": {},
   "outputs": [],
   "source": [
    "subfrase1= string[17:29]\n",
    "subfrase2= string[51:66]\n",
    "subfrase3= string[70:83]"
   ]
  },
  {
   "cell_type": "code",
   "execution_count": 85,
   "id": "32dec2c4",
   "metadata": {},
   "outputs": [
    {
     "data": {
      "text/plain": [
       "'un ordenador, por una ventana -- Steve Wozniak'"
      ]
     },
     "execution_count": 85,
     "metadata": {},
     "output_type": "execute_result"
    }
   ],
   "source": [
    "nueva_frase= f\"{subfrase1}, {subfrase2} -- {subfrase3}\"\n",
    "nueva_frase"
   ]
  },
  {
   "cell_type": "markdown",
   "id": "4ed01d93",
   "metadata": {},
   "source": [
    "### Ejercicio 5\n",
    "- Hacer stride de paso 2 con **nueva_frase**."
   ]
  },
  {
   "cell_type": "code",
   "execution_count": 88,
   "id": "9c844740-5270-48d5-a1b6-64d2e4da04c8",
   "metadata": {},
   "outputs": [],
   "source": [
    "string=nueva_frase"
   ]
  },
  {
   "cell_type": "code",
   "execution_count": 89,
   "id": "ad0072cd",
   "metadata": {},
   "outputs": [
    {
     "name": "stdout",
     "output_type": "stream",
     "text": [
      "un ordenador, por una ventana -- Steve Wozniak\n",
      "nodndr o n etn -SeeWzi\n"
     ]
    }
   ],
   "source": [
    "print(nueva_frase)\n",
    "print(string[1:-1:2])\n"
   ]
  },
  {
   "cell_type": "code",
   "execution_count": null,
   "id": "ac450c32-c881-4b26-a730-51d452febab0",
   "metadata": {},
   "outputs": [],
   "source": []
  },
  {
   "cell_type": "markdown",
   "id": "49f704a6",
   "metadata": {},
   "source": [
    "### Ejercicio 6\n",
    "- Obten las vocales de la palabra **\"Nunca\"** y **\"una\"**, haciendo slicing y stride a la **frase** original."
   ]
  },
  {
   "cell_type": "code",
   "execution_count": 3,
   "id": "e3da06b4",
   "metadata": {},
   "outputs": [
    {
     "name": "stdout",
     "output_type": "stream",
     "text": [
      "Nunca confies en un ordenador que no puedas lanzar por una ventana -- Steve Wozniak\n"
     ]
    }
   ],
   "source": [
    "string=frase\n",
    "print(frase)"
   ]
  },
  {
   "cell_type": "code",
   "execution_count": 16,
   "id": "3e2759c4",
   "metadata": {},
   "outputs": [
    {
     "name": "stdout",
     "output_type": "stream",
     "text": [
      "ua\n"
     ]
    }
   ],
   "source": [
    "palabra1= string[0:5]\n",
    "print(palabra1[1:5:3])\n"
   ]
  },
  {
   "cell_type": "code",
   "execution_count": 28,
   "id": "b043abed-e4b5-46cd-be2a-f596ccd29ddf",
   "metadata": {},
   "outputs": [
    {
     "name": "stdout",
     "output_type": "stream",
     "text": [
      "ua\n"
     ]
    }
   ],
   "source": [
    "palabra2= string[55:58]\n",
    "print(palabra2[0:3:2])"
   ]
  },
  {
   "cell_type": "markdown",
   "id": "0a42a1a3",
   "metadata": {},
   "source": [
    "### Ejercicio 7\n",
    "- Usando la variable **frase** encuentra el índice de la palabra **\"ordenador\"** y guardarlo en la variable **indice_1**.\n",
    "- Usando la variable **frase** encuentra el indice de la palabra **\"ventana\"** y guardalo en la variable **indice_2**."
   ]
  },
  {
   "cell_type": "code",
   "execution_count": null,
   "id": "b91458ad",
   "metadata": {},
   "outputs": [],
   "source": []
  },
  {
   "cell_type": "code",
   "execution_count": null,
   "id": "b01ec2bd",
   "metadata": {},
   "outputs": [],
   "source": []
  },
  {
   "cell_type": "code",
   "execution_count": null,
   "id": "99f07f56-0a2a-44fb-aba9-1d0f897cceaf",
   "metadata": {},
   "outputs": [],
   "source": []
  },
  {
   "cell_type": "markdown",
   "id": "1ba23cc3",
   "metadata": {},
   "source": [
    "### Ejercicio 8\n",
    "- Obtener la frase: **\"ordenador que no puedas lanzar por una ventana\"** haciendo slicing y utilizando las variables: **indice_1** y **indice_2**."
   ]
  },
  {
   "cell_type": "code",
   "execution_count": null,
   "id": "3d07c17e",
   "metadata": {},
   "outputs": [],
   "source": []
  },
  {
   "cell_type": "code",
   "execution_count": null,
   "id": "11053fe0-d4d4-4d96-a2bf-af04e3a8589f",
   "metadata": {},
   "outputs": [],
   "source": []
  },
  {
   "cell_type": "code",
   "execution_count": null,
   "id": "c3927f1c-93af-4010-8da3-c405c2192312",
   "metadata": {},
   "outputs": [],
   "source": []
  },
  {
   "cell_type": "markdown",
   "id": "4ce3d23c",
   "metadata": {},
   "source": [
    "### Ejercicio 9\n",
    "- Verificar si la **frase** original empieza con la cadena **\"nunca\"**."
   ]
  },
  {
   "cell_type": "code",
   "execution_count": null,
   "id": "23f39959",
   "metadata": {},
   "outputs": [],
   "source": []
  },
  {
   "cell_type": "code",
   "execution_count": null,
   "id": "b8b72e56-1ff6-489b-bfac-f05c519269de",
   "metadata": {},
   "outputs": [],
   "source": []
  },
  {
   "cell_type": "code",
   "execution_count": null,
   "id": "9dcf4109-6445-4929-9047-63c380abe651",
   "metadata": {},
   "outputs": [],
   "source": []
  },
  {
   "cell_type": "markdown",
   "id": "67350650",
   "metadata": {},
   "source": [
    "### Ejercicio 10\n",
    "- Verificar si la **frase** original termina con **\".\"**"
   ]
  },
  {
   "cell_type": "code",
   "execution_count": null,
   "id": "fd459e90",
   "metadata": {},
   "outputs": [],
   "source": []
  },
  {
   "cell_type": "code",
   "execution_count": null,
   "id": "253567b2-3150-4395-90a0-2993ec109c66",
   "metadata": {},
   "outputs": [],
   "source": []
  },
  {
   "cell_type": "code",
   "execution_count": null,
   "id": "b1cc403d-b71f-48e9-801f-fda37ff1bd51",
   "metadata": {},
   "outputs": [],
   "source": []
  },
  {
   "cell_type": "markdown",
   "id": "92e148d9",
   "metadata": {},
   "source": [
    "### Ejercicio 11\n",
    "- Separar la frase por la cadena **\"que\"** utilizando **.split()**."
   ]
  },
  {
   "cell_type": "code",
   "execution_count": null,
   "id": "d24490e1",
   "metadata": {},
   "outputs": [],
   "source": []
  },
  {
   "cell_type": "code",
   "execution_count": null,
   "id": "27271dc2-0996-4729-bd23-1aa49abd1ae9",
   "metadata": {},
   "outputs": [],
   "source": []
  },
  {
   "cell_type": "code",
   "execution_count": null,
   "id": "18db891c-2cce-4660-8194-ad921ed92a22",
   "metadata": {},
   "outputs": [],
   "source": []
  },
  {
   "cell_type": "markdown",
   "id": "4bd93d27",
   "metadata": {},
   "source": [
    "### Ejercicio 12\n",
    "- Separar la frase por la letra **\"o\"** utilizando **.split()**"
   ]
  },
  {
   "cell_type": "code",
   "execution_count": null,
   "id": "922a9f36",
   "metadata": {},
   "outputs": [],
   "source": []
  },
  {
   "cell_type": "code",
   "execution_count": null,
   "id": "c280cd39-ded7-477b-87ac-0cce0291fb29",
   "metadata": {},
   "outputs": [],
   "source": []
  },
  {
   "cell_type": "code",
   "execution_count": null,
   "id": "a7ee8858-9c18-4e4f-a6d8-39283f4e351e",
   "metadata": {},
   "outputs": [],
   "source": []
  },
  {
   "cell_type": "markdown",
   "id": "fb6a50cc",
   "metadata": {},
   "source": [
    "### Ejercicio 13\n",
    "- Cuenta cuantas veces aparecen las vocales en la **frase** original."
   ]
  },
  {
   "cell_type": "code",
   "execution_count": null,
   "id": "64cd99f1",
   "metadata": {},
   "outputs": [],
   "source": []
  },
  {
   "cell_type": "code",
   "execution_count": null,
   "id": "180c8d39",
   "metadata": {},
   "outputs": [],
   "source": []
  },
  {
   "cell_type": "code",
   "execution_count": null,
   "id": "c8fb06ee",
   "metadata": {},
   "outputs": [],
   "source": []
  },
  {
   "cell_type": "code",
   "execution_count": null,
   "id": "e9675c85",
   "metadata": {},
   "outputs": [],
   "source": []
  },
  {
   "cell_type": "code",
   "execution_count": null,
   "id": "884063f4",
   "metadata": {},
   "outputs": [],
   "source": []
  },
  {
   "cell_type": "code",
   "execution_count": null,
   "id": "04bac0f8",
   "metadata": {},
   "outputs": [],
   "source": [
    "##############################################################################################################################"
   ]
  }
 ],
 "metadata": {
  "kernelspec": {
   "display_name": "Python 3",
   "language": "python",
   "name": "python3"
  },
  "language_info": {
   "codemirror_mode": {
    "name": "ipython",
    "version": 3
   },
   "file_extension": ".py",
   "mimetype": "text/x-python",
   "name": "python",
   "nbconvert_exporter": "python",
   "pygments_lexer": "ipython3",
   "version": "3.13.1"
  }
 },
 "nbformat": 4,
 "nbformat_minor": 5
}
