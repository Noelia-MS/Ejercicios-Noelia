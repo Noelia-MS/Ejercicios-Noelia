{
 "cells": [
  {
   "cell_type": "markdown",
   "id": "3b9c8335",
   "metadata": {},
   "source": [
    "## Ejercicios - random"
   ]
  },
  {
   "cell_type": "code",
   "execution_count": 1,
   "id": "ed13011e",
   "metadata": {},
   "outputs": [],
   "source": [
    "import random"
   ]
  },
  {
   "cell_type": "markdown",
   "id": "eca8b13f",
   "metadata": {},
   "source": [
    "### Ejercicio 1\n",
    "- Crea una lista de 10 numeros enteros aleatorios entre el rango de 10 y 20 utilizando la función random.randint()"
   ]
  },
  {
   "cell_type": "code",
   "execution_count": 2,
   "id": "a9c5468a",
   "metadata": {},
   "outputs": [
    {
     "name": "stdout",
     "output_type": "stream",
     "text": [
      "[10, 18, 20, 19, 10, 13, 17, 12, 15, 13]\n"
     ]
    }
   ],
   "source": [
    "lista = [random.randint(10, 20) for i in range(10)]\n",
    "\n",
    "print(lista)"
   ]
  },
  {
   "cell_type": "code",
   "execution_count": null,
   "id": "91329916",
   "metadata": {},
   "outputs": [],
   "source": [
    "numeros_aleatorios = [random.randint(10, 20) for _ in range(10)]\n",
    "\n",
    "print(numeros_aleatorios)"
   ]
  },
  {
   "cell_type": "code",
   "execution_count": null,
   "id": "afeb807a",
   "metadata": {},
   "outputs": [],
   "source": [
    "for i in range(10):\n",
    "    print(random.randrange(1,21))"
   ]
  },
  {
   "cell_type": "markdown",
   "id": "fc1a19d0",
   "metadata": {},
   "source": [
    "### Ejercicio 2\n",
    "- Crea una lista de 10 numeros enteros aleatorios entre el rango de 10 y 20 sin utilizar la función random.randint()"
   ]
  },
  {
   "cell_type": "code",
   "execution_count": 24,
   "id": "0985d30a",
   "metadata": {},
   "outputs": [
    {
     "name": "stdout",
     "output_type": "stream",
     "text": [
      "[12, 14, 20, 19, 12, 14, 10, 13, 17, 16]\n"
     ]
    }
   ],
   "source": [
    "lista = [random.randrange(10,21) for i in range(10)]\n",
    "print(lista)"
   ]
  },
  {
   "cell_type": "code",
   "execution_count": null,
   "id": "b04bcddf",
   "metadata": {},
   "outputs": [],
   "source": []
  },
  {
   "cell_type": "code",
   "execution_count": null,
   "id": "07139a13",
   "metadata": {},
   "outputs": [],
   "source": []
  },
  {
   "cell_type": "markdown",
   "id": "381a2b23",
   "metadata": {},
   "source": [
    "### Ejercicio 3\n",
    "- Genera una lista de 100 numero enteros aleatorios entre 0 y 100.\n",
    "- Genera otra lista con solo los números pares de la primera lista.\n",
    "\n",
    "- Extra: Hacer este ejercicio usando 1 solo bucle."
   ]
  },
  {
   "cell_type": "code",
   "execution_count": 25,
   "id": "ed54e490",
   "metadata": {
    "scrolled": true
   },
   "outputs": [
    {
     "name": "stdout",
     "output_type": "stream",
     "text": [
      "[37, 47, 100, 91, 73, 57, 95, 64, 45, 66, 15, 42, 67, 41, 19, 28, 17, 28, 65, 40, 22, 36, 34, 100, 45, 13, 82, 54, 94, 88, 88, 87, 28, 86, 53, 94, 17, 71, 63, 74, 33, 32, 41, 13, 15, 17, 72, 1, 100, 53, 47, 99, 73, 3, 81, 53, 42, 11, 22, 32, 68, 67, 11, 30, 96, 87, 53, 8, 100, 6, 70, 12, 82, 16, 92, 14, 18, 80, 71, 6, 23, 37, 76, 57, 30, 67, 88, 28, 72, 38, 58, 81, 51, 56, 38, 1, 35, 75, 8, 9]\n"
     ]
    }
   ],
   "source": [
    "lista = [random.randint(0, 100) for i in range(100)]\n",
    "\n",
    "print(lista)"
   ]
  },
  {
   "cell_type": "code",
   "execution_count": 29,
   "id": "570ff2b3",
   "metadata": {},
   "outputs": [
    {
     "name": "stdout",
     "output_type": "stream",
     "text": [
      "[37, 47, 100, 91, 73, 57, 95, 64, 45, 66, 15, 42, 67, 41, 19, 28, 17, 28, 65, 40, 22, 36, 34, 100, 45, 13, 82, 54, 94, 88, 88, 87, 28, 86, 53, 94, 17, 71, 63, 74, 33, 32, 41, 13, 15, 17, 72, 1, 100, 53, 47, 99, 73, 3, 81, 53, 42, 11, 22, 32, 68, 67, 11, 30, 96, 87, 53, 8, 100, 6, 70, 12, 82, 16, 92, 14, 18, 80, 71, 6, 23, 37, 76, 57, 30, 67, 88, 28, 72, 38, 58, 81, 51, 56, 38, 1, 35, 75, 8, 9]\n",
      "[100, 64, 66, 42, 28, 28, 40, 22, 36, 34, 100, 82, 54, 94, 88, 88, 28, 86, 94, 74, 32, 72, 100, 42, 22, 32, 68, 30, 96, 8, 100, 6, 70, 12, 82, 16, 92, 14, 18, 80, 6, 76, 30, 88, 28, 72, 38, 58, 56, 38, 8]\n"
     ]
    }
   ],
   "source": [
    "lista_pares = [num for num in lista if num % 2 == 0]\n",
    "print(lista)\n",
    "print(lista_pares)"
   ]
  },
  {
   "cell_type": "code",
   "execution_count": 31,
   "id": "8ac4e27c",
   "metadata": {},
   "outputs": [
    {
     "name": "stdout",
     "output_type": "stream",
     "text": [
      "[1, 58, 51, 38, 36, 35, 91, 21, 44, 48, 37, 22, 32, 81, 46, 55, 71, 3, 50, 47, 13, 3, 5, 0, 14, 27, 98, 83, 34, 79, 41, 64, 86, 38, 70, 20, 26, 1, 76, 100, 20, 50, 11, 32, 77, 92, 49, 15, 94, 2, 68, 40, 78, 45, 8, 63, 7, 100, 60, 54, 12, 29, 50, 22, 100, 91, 7, 49, 62, 81, 47, 48, 12, 92, 52, 95, 37, 33, 1, 43, 57, 50, 15, 69, 64, 45, 88, 57, 57, 60, 82, 72, 11, 44, 41, 34, 63, 65, 63, 14]\n",
      "[58, 38, 36, 44, 48, 22, 32, 46, 50, 0, 14, 98, 34, 64, 86, 38, 70, 20, 26, 76, 100, 20, 50, 32, 92, 94, 2, 68, 40, 78, 8, 100, 60, 54, 12, 50, 22, 100, 62, 48, 12, 92, 52, 50, 64, 88, 60, 82, 72, 44, 34, 14]\n"
     ]
    }
   ],
   "source": [
    "lista = []\n",
    "lista_pares = []\n",
    "\n",
    "for num in range(100):\n",
    "    numero = random.randint(0, 100)\n",
    "    lista.append(numero)\n",
    "    if numero % 2 == 0:\n",
    "        lista_pares.append(numero)\n",
    "        \n",
    "print(lista)\n",
    "print(lista_pares)"
   ]
  },
  {
   "cell_type": "code",
   "execution_count": null,
   "id": "3989b760",
   "metadata": {},
   "outputs": [],
   "source": [
    "##############################################################################################################################"
   ]
  }
 ],
 "metadata": {
  "kernelspec": {
   "display_name": "Python 3",
   "language": "python",
   "name": "python3"
  },
  "language_info": {
   "codemirror_mode": {
    "name": "ipython",
    "version": 3
   },
   "file_extension": ".py",
   "mimetype": "text/x-python",
   "name": "python",
   "nbconvert_exporter": "python",
   "pygments_lexer": "ipython3",
   "version": "3.13.1"
  }
 },
 "nbformat": 4,
 "nbformat_minor": 5
}
