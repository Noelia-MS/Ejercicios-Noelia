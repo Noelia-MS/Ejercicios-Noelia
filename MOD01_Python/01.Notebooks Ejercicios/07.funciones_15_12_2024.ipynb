{
 "cells": [
  {
   "cell_type": "markdown",
   "id": "617e80df",
   "metadata": {},
   "source": [
    "## Ejercicios - Funciones"
   ]
  },
  {
   "cell_type": "markdown",
   "id": "9ff17fdc",
   "metadata": {},
   "source": [
    "### Ejercicio 1\n",
    "- Crea una función que retorne el minimo de 2 números, no puedes usar la función **min()**."
   ]
  },
  {
   "cell_type": "code",
   "execution_count": 4,
   "id": "b2988ac2",
   "metadata": {},
   "outputs": [],
   "source": [
    "def minimo_numeros(x, y):\n",
    "    if x < y:\n",
    "        return x\n",
    "    else:\n",
    "        return y"
   ]
  },
  {
   "cell_type": "code",
   "execution_count": 8,
   "id": "c1bf472d",
   "metadata": {},
   "outputs": [
    {
     "data": {
      "text/plain": [
       "10"
      ]
     },
     "execution_count": 8,
     "metadata": {},
     "output_type": "execute_result"
    }
   ],
   "source": [
    "minimo_numeros(10,20)"
   ]
  },
  {
   "cell_type": "code",
   "execution_count": null,
   "id": "1a08c3b9",
   "metadata": {},
   "outputs": [],
   "source": []
  },
  {
   "cell_type": "markdown",
   "id": "299d07e1",
   "metadata": {},
   "source": [
    "### Ejercicio 2\n",
    "- Crea una función que tenga como parametro de entrada 4 números y devuelva la suma y multiplicación de dichos números en dos variables."
   ]
  },
  {
   "cell_type": "code",
   "execution_count": 17,
   "id": "29dc4315",
   "metadata": {},
   "outputs": [],
   "source": [
    "def func_numeros (a, b, c, d):\n",
    "    suma = a + b + c + d\n",
    "    multiplicacion = a * b * c * d\n",
    "    return suma, multiplicacion\n",
    "    "
   ]
  },
  {
   "cell_type": "code",
   "execution_count": 18,
   "id": "771dd0ed",
   "metadata": {},
   "outputs": [
    {
     "data": {
      "text/plain": [
       "(10, 24)"
      ]
     },
     "execution_count": 18,
     "metadata": {},
     "output_type": "execute_result"
    }
   ],
   "source": [
    "func_numeros(1,2,3,4)"
   ]
  },
  {
   "cell_type": "code",
   "execution_count": null,
   "id": "06eb5e0e",
   "metadata": {},
   "outputs": [],
   "source": []
  },
  {
   "cell_type": "markdown",
   "id": "b33d16b5",
   "metadata": {},
   "source": [
    "### Ejercicio 3\n",
    "- Crea una función que devuelva los dos números menores (en forma de lista) de 4 números."
   ]
  },
  {
   "cell_type": "code",
   "execution_count": 19,
   "id": "413447a6",
   "metadata": {},
   "outputs": [],
   "source": [
    "def numeros_menores(num1, num2, num3, num4):\n",
    "    lista_numeros = [num1, num2, num3, num4]\n",
    "    lista_numeros.sort()\n",
    "    return lista_numeros[:2]    "
   ]
  },
  {
   "cell_type": "code",
   "execution_count": 20,
   "id": "763659b4",
   "metadata": {},
   "outputs": [
    {
     "data": {
      "text/plain": [
       "[7, 11]"
      ]
     },
     "execution_count": 20,
     "metadata": {},
     "output_type": "execute_result"
    }
   ],
   "source": [
    "numeros_menores(7,15,11,20)"
   ]
  },
  {
   "cell_type": "code",
   "execution_count": null,
   "id": "6c0e5415",
   "metadata": {},
   "outputs": [],
   "source": []
  },
  {
   "cell_type": "markdown",
   "id": "b5b102ac",
   "metadata": {},
   "source": [
    "### Ejercicio 4\n",
    "- Crea una función que devuelva los 10 números menores de una lista de 20 números aleatorios entre 10 y 50. (Recuerda importar la libreria)\n",
    "- La lista de número aleatorios se puede crear fuera o dentro de la función."
   ]
  },
  {
   "cell_type": "code",
   "execution_count": 29,
   "id": "77d7dacb",
   "metadata": {},
   "outputs": [
    {
     "name": "stdout",
     "output_type": "stream",
     "text": [
      "[26, 49, 18, 12, 19, 20, 13, 38, 39, 33, 18, 16, 32, 11, 37, 19, 50, 24, 31, 36]\n"
     ]
    }
   ],
   "source": [
    "import random\n",
    "numeros_aleatorios= []\n",
    "for i in range(1,21):\n",
    "    numero= random.randint(10,50)\n",
    "    numeros_aleatorios.append(numero)\n",
    "print(numeros_aleatorios)"
   ]
  },
  {
   "cell_type": "code",
   "execution_count": 31,
   "id": "f80ee060",
   "metadata": {},
   "outputs": [
    {
     "data": {
      "text/plain": [
       "[12, 13, 16, 18, 18, 19, 19, 20, 24, 26]"
      ]
     },
     "execution_count": 31,
     "metadata": {},
     "output_type": "execute_result"
    }
   ],
   "source": [
    "def ten_lowers (number):\n",
    "    number.sort()\n",
    "    return number[1:11]\n",
    "\n",
    "ten_lowers(numeros_aleatorios)"
   ]
  },
  {
   "cell_type": "code",
   "execution_count": null,
   "id": "250d230f",
   "metadata": {},
   "outputs": [],
   "source": []
  },
  {
   "cell_type": "markdown",
   "id": "af2c3e2a",
   "metadata": {},
   "source": [
    "### Ejercicio 5\n",
    "- Crea una función que realice la misma tarea que **len()**. "
   ]
  },
  {
   "cell_type": "code",
   "execution_count": 32,
   "id": "fd7e71ac",
   "metadata": {},
   "outputs": [],
   "source": [
    "def contar_letras(frase):\n",
    "    contador = 0\n",
    "    for i in frase:\n",
    "        contador +=1\n",
    "    return contador"
   ]
  },
  {
   "cell_type": "code",
   "execution_count": 38,
   "id": "d0271389",
   "metadata": {},
   "outputs": [
    {
     "name": "stdout",
     "output_type": "stream",
     "text": [
      "12\n",
      "53\n"
     ]
    }
   ],
   "source": [
    "lista= [1,2,3,55,77,88,47,4218,90,0,1,572]\n",
    "print(contar_letras(lista))\n",
    "frase= \"Crea una función que realice la misma tarea que len()\"\n",
    "print(contar_letras(frase))"
   ]
  },
  {
   "cell_type": "code",
   "execution_count": null,
   "id": "68d70a18",
   "metadata": {},
   "outputs": [],
   "source": []
  },
  {
   "cell_type": "markdown",
   "id": "16725232",
   "metadata": {},
   "source": [
    "### Ejercicio 6\n",
    "- Escribe una función que:\n",
    "- Tome como parametro de entrada una lista de números y letras\n",
    "- Convierta las letras a su forma en mayuscula.\n",
    "- Que calcule el cuadrado de los números\n",
    "- Que retorne ese resultado en una lista en el mismo orden.\n",
    "\n",
    "**Ejemplo:**\n",
    "\n",
    "**entrada = [1, 2, 3, 4, \"a\", \"b\", \"c\", \"d\"]**\n",
    "\n",
    "**salida = [1, 4, 9, 16, \"A\", \"B\", \"C\", \"D\"]**"
   ]
  },
  {
   "cell_type": "code",
   "execution_count": 62,
   "id": "f47c456d",
   "metadata": {},
   "outputs": [],
   "source": [
    "def elevar(lista):\n",
    "    salida= []\n",
    "    for i in lista:\n",
    "        if type(i) == int:\n",
    "            salida.append(i **2)\n",
    "        elif type(i) == str:\n",
    "            salida.append(i.upper())\n",
    "    return salida\n",
    "        "
   ]
  },
  {
   "cell_type": "code",
   "execution_count": 64,
   "id": "ca5a46ed",
   "metadata": {},
   "outputs": [
    {
     "data": {
      "text/plain": [
       "[1, 4, 9, 16, 'A', 'B', 'C', 'D']"
      ]
     },
     "execution_count": 64,
     "metadata": {},
     "output_type": "execute_result"
    }
   ],
   "source": [
    "entrada = [1, 2, 3, 4, \"a\", \"b\", \"c\", \"d\"]\n",
    "elevar(entrada)"
   ]
  },
  {
   "cell_type": "code",
   "execution_count": null,
   "id": "73fc8a6f",
   "metadata": {},
   "outputs": [],
   "source": []
  },
  {
   "cell_type": "markdown",
   "id": "b4a5e1be",
   "metadata": {},
   "source": [
    "### Ejercicio 7\n",
    "\n",
    "- Crea una funcion que reciba una lista de enteros y que retorne la misma lista sin numeros repetidos y ordenados."
   ]
  },
  {
   "cell_type": "code",
   "execution_count": 68,
   "id": "1b368b6a",
   "metadata": {},
   "outputs": [
    {
     "name": "stdout",
     "output_type": "stream",
     "text": [
      "[36, 26, 50, 24, 13, 33, 19, 38, 16, 49, 20, 39, 19, 18, 31, 37, 18, 11, 32, 12]\n"
     ]
    }
   ],
   "source": [
    "random.shuffle(numeros_aleatorios)\n",
    "print(numeros_aleatorios)"
   ]
  },
  {
   "cell_type": "code",
   "execution_count": 72,
   "id": "65caaaf1",
   "metadata": {},
   "outputs": [],
   "source": [
    "def ordenar (lista):\n",
    "    salida= list(set(lista))\n",
    "    salida.sort()\n",
    "    return salida"
   ]
  },
  {
   "cell_type": "code",
   "execution_count": 73,
   "id": "bb885557",
   "metadata": {},
   "outputs": [
    {
     "data": {
      "text/plain": [
       "[11, 12, 13, 16, 18, 19, 20, 24, 26, 31, 32, 33, 36, 37, 38, 39, 49, 50]"
      ]
     },
     "execution_count": 73,
     "metadata": {},
     "output_type": "execute_result"
    }
   ],
   "source": [
    "ordenar(numeros_aleatorios)"
   ]
  },
  {
   "cell_type": "markdown",
   "id": "46a6ff3d",
   "metadata": {},
   "source": [
    "### Ejercicio 8\n",
    "- Dada una lista de numeros enteros, retornar cuantos numeros hay con un numero par de digitos."
   ]
  },
  {
   "cell_type": "code",
   "execution_count": 87,
   "id": "d1077bbf",
   "metadata": {},
   "outputs": [
    {
     "name": "stdout",
     "output_type": "stream",
     "text": [
      "[11, 12, 13, 16, 18, 18, 19, 19, 20, 24, 26, 31, 32, 33, 36, 37, 38, 39, 49, 50]\n"
     ]
    }
   ],
   "source": [
    "print(numeros_aleatorios)"
   ]
  },
  {
   "cell_type": "code",
   "execution_count": 95,
   "id": "dfe055e2",
   "metadata": {},
   "outputs": [],
   "source": [
    "def numeros_pares(lista):\n",
    "    pares= 0\n",
    "    for i in lista:\n",
    "        if i % 2 == 0:\n",
    "            pares += 1\n",
    "    return pares"
   ]
  },
  {
   "cell_type": "code",
   "execution_count": 96,
   "id": "ccf746a3",
   "metadata": {},
   "outputs": [
    {
     "data": {
      "text/plain": [
       "11"
      ]
     },
     "execution_count": 96,
     "metadata": {},
     "output_type": "execute_result"
    }
   ],
   "source": [
    "numeros_pares(numeros_aleatorios)"
   ]
  },
  {
   "cell_type": "code",
   "execution_count": null,
   "id": "f3a41a72-ec75-4125-a921-435af6484930",
   "metadata": {},
   "outputs": [],
   "source": [
    "##############################################################################################################################"
   ]
  }
 ],
 "metadata": {
  "kernelspec": {
   "display_name": "Python 3",
   "language": "python",
   "name": "python3"
  },
  "language_info": {
   "codemirror_mode": {
    "name": "ipython",
    "version": 3
   },
   "file_extension": ".py",
   "mimetype": "text/x-python",
   "name": "python",
   "nbconvert_exporter": "python",
   "pygments_lexer": "ipython3",
   "version": "3.13.1"
  }
 },
 "nbformat": 4,
 "nbformat_minor": 5
}
