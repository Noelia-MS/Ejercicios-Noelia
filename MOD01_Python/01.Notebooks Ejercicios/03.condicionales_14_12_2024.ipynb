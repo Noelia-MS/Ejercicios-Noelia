{
 "cells": [
  {
   "cell_type": "markdown",
   "id": "cc6f0931",
   "metadata": {},
   "source": [
    "## Ejecicios - Condicionales"
   ]
  },
  {
   "cell_type": "markdown",
   "id": "45bf39fc",
   "metadata": {},
   "source": [
    "### Ejercicio 1\n",
    "\n",
    "- Perdirle al usuario que ingrese un número mayor a 0\n",
    "- Luego que imprima por pantalla si el número es par o impar."
   ]
  },
  {
   "cell_type": "code",
   "execution_count": null,
   "id": "ce78094c",
   "metadata": {},
   "outputs": [],
   "source": [
    "numero = int(input(\"Dime un número mayor que 0\"))\n",
    "if numero > 0:\n",
    "    if numero % 2 == 0:\n",
    "        print(f\"El número {numero} es par\")\n",
    "    else:\n",
    "        print(f\"El número {numero} es impar\")\n",
    "else:\n",
    "    print (\"numero incorrecto\")"
   ]
  },
  {
   "cell_type": "code",
   "execution_count": null,
   "id": "6fe828f0",
   "metadata": {},
   "outputs": [],
   "source": []
  },
  {
   "cell_type": "code",
   "execution_count": null,
   "id": "4047176c",
   "metadata": {},
   "outputs": [],
   "source": []
  },
  {
   "cell_type": "markdown",
   "id": "50f7c887",
   "metadata": {},
   "source": [
    "### Ejercicio 2\n",
    "- Pedirle al usuario que ingrese una palabra.\n",
    "- Contar el número de letras y decir si es una palabra larga (10 caracteres o más) o corta."
   ]
  },
  {
   "cell_type": "code",
   "execution_count": null,
   "id": "9fbdea13",
   "metadata": {},
   "outputs": [],
   "source": [
    "palabra = input(\"Escribe una palabra\")\n",
    "total_letras = len(palabra)\n",
    "\n",
    "if total_letras >= 10:\n",
    "    print(\"la palabra es larga\")\n",
    "else:\n",
    "    print (\"la palabra es corta\")"
   ]
  },
  {
   "cell_type": "code",
   "execution_count": null,
   "id": "8f385606",
   "metadata": {},
   "outputs": [],
   "source": []
  },
  {
   "cell_type": "markdown",
   "id": "c3b58038",
   "metadata": {},
   "source": [
    "### Ejercicio 3\n",
    "- Pedirle al usuario que ingrese una palabra.\n",
    "- Contar cuantas vocales tiene e imprimir cuantas hay de cada una.\n",
    "- Luego imprimir por pantalla si tiene más vocales que consonantes."
   ]
  },
  {
   "cell_type": "code",
   "execution_count": null,
   "id": "e31e702d",
   "metadata": {},
   "outputs": [],
   "source": [
    "palabra = input(\"Escribe una palabra\")\n",
    "vocales = [\"a\", \"e\",\"i\",\"o\",\"u\"]\n",
    "contador_vocales = {vocal: 0 for vocal in vocales}\n",
    "contador_consonantes = 0\n",
    "\n",
    "for letra in palabra:\n",
    "    if letra in vocales:\n",
    "        contador_vocales[letra] += 1    \n",
    "print(\"Total de vocales:\")\n",
    "for vocal, cantidad in contador_vocales.items():\n",
    "    print(f\"{vocal}: {cantidad}\")\n",
    "    \n",
    "for letra in palabra:\n",
    "    if letra not in vocales:\n",
    "        contador_consonantes +=1\n",
    "\n",
    "    \n",
    "if sum(contador_vocales.values()) > contador_consonantes:\n",
    "    print (f\"La palabra {palabra} tiene más vocales que consonantes\")\n",
    "else:\n",
    "    print (f\"La palabra {palabra} tiene más consonantes que vocales\")"
   ]
  },
  {
   "cell_type": "code",
   "execution_count": null,
   "id": "21726bb9",
   "metadata": {},
   "outputs": [],
   "source": []
  },
  {
   "cell_type": "code",
   "execution_count": null,
   "id": "0e3bb7e3",
   "metadata": {},
   "outputs": [],
   "source": []
  },
  {
   "cell_type": "markdown",
   "id": "c075c77b",
   "metadata": {},
   "source": [
    "### Ejercicio 4\n",
    "- Pedir al usuario que ingrese una frase.\n",
    "- Contar el número de palabras.\n",
    "- Si el número de palabras es impar imprimir \"El número de palabras es impar\" de lo contrario imprimir \"El número de palabras es par\"."
   ]
  },
  {
   "cell_type": "code",
   "execution_count": null,
   "id": "67962e21",
   "metadata": {},
   "outputs": [],
   "source": [
    "frase = input(\"Escribe una frase\")\n",
    "palabras = frase.split()\n",
    "total_palabras= len(palabras)\n",
    "print(palabras)\n",
    "print(total_palabras)\n",
    "\n",
    "if total_palabras % 2 != 0:\n",
    "    print(\"El número de palabras es impar\")\n",
    "else:\n",
    "    print(\"El número de palabras es par\")\n",
    "\n"
   ]
  },
  {
   "cell_type": "code",
   "execution_count": null,
   "id": "0cdfdbbd",
   "metadata": {},
   "outputs": [],
   "source": [
    "frase = input(\"Escribe una frase\")\n",
    "palabras = frase.split()\n",
    "total_palabras= len(palabras)\n",
    "\n",
    "\n",
    "if total_palabras % 2 != 0:\n",
    "    print(\"El número de palabras es impar\")\n",
    "else:\n",
    "    print(\"El número de palabras es par\")"
   ]
  },
  {
   "cell_type": "code",
   "execution_count": null,
   "id": "8c1baece",
   "metadata": {},
   "outputs": [],
   "source": []
  },
  {
   "cell_type": "code",
   "execution_count": null,
   "id": "38fb44c7",
   "metadata": {},
   "outputs": [],
   "source": [
    "##############################################################################################################################"
   ]
  }
 ],
 "metadata": {
  "kernelspec": {
   "display_name": "Python 3",
   "language": "python",
   "name": "python3"
  },
  "language_info": {
   "codemirror_mode": {
    "name": "ipython",
    "version": 3
   },
   "file_extension": ".py",
   "mimetype": "text/x-python",
   "name": "python",
   "nbconvert_exporter": "python",
   "pygments_lexer": "ipython3",
   "version": "3.13.1"
  }
 },
 "nbformat": 4,
 "nbformat_minor": 5
}
