{
 "cells": [
  {
   "cell_type": "markdown",
   "id": "1ace7bee-b24c-400e-9d93-7a84eec5d2e1",
   "metadata": {},
   "source": [
    "## Ejercicios - Algebra"
   ]
  },
  {
   "cell_type": "code",
   "execution_count": 1,
   "id": "2ab86bce-70ec-4791-92e0-5062aa3b751c",
   "metadata": {
    "tags": []
   },
   "outputs": [],
   "source": [
    "import numpy as np\n",
    "\n",
    "import random"
   ]
  },
  {
   "cell_type": "code",
   "execution_count": 2,
   "id": "0baa6b5f-63c7-4738-a9ba-f12c6636a4ec",
   "metadata": {
    "tags": []
   },
   "outputs": [
    {
     "name": "stdout",
     "output_type": "stream",
     "text": [
      "numpy==2.1.3\n"
     ]
    }
   ],
   "source": [
    "# Versiones\n",
    "print(f\"numpy=={np.__version__}\")"
   ]
  },
  {
   "cell_type": "markdown",
   "id": "9cad9f27-4d1e-429d-b0ac-fa89e8490ef2",
   "metadata": {},
   "source": [
    "### Ejercicio 1:\n",
    "- Usando la librería _**random**_, genera una matriz de $4x4$ de números enteros del 1 al 100, usando bucles.\n",
    "- El resultado debe ser un _**np.array()**_."
   ]
  },
  {
   "cell_type": "code",
   "execution_count": 4,
   "id": "b4eb665c-fffe-4448-8048-0bdba9380795",
   "metadata": {
    "tags": []
   },
   "outputs": [
    {
     "name": "stdout",
     "output_type": "stream",
     "text": [
      "[[1 2 3]\n",
      " [1 2 3]]\n",
      "(2, 3)\n"
     ]
    }
   ],
   "source": [
    "matriz = np.array([[1, 2, 3], [1, 2, 3]])\n",
    "print(matriz)\n",
    "print(matriz.shape) # se pide (4,4)\n",
    "# Uso de bucles for para crear una lista en python y pasarla a array de numpy"
   ]
  },
  {
   "cell_type": "code",
   "execution_count": 11,
   "id": "118c8228-d2bd-42de-933a-87eec7cf8352",
   "metadata": {},
   "outputs": [
    {
     "data": {
      "text/plain": [
       "array([[91, 13, 52, 53],\n",
       "       [ 1, 61, 97, 28],\n",
       "       [88, 26, 10, 94],\n",
       "       [37, 49, 88, 51]])"
      ]
     },
     "execution_count": 11,
     "metadata": {},
     "output_type": "execute_result"
    }
   ],
   "source": [
    "# matriz = list()\n",
    "import numpy as np\n",
    "import random\n",
    "\n",
    "matriz = []\n",
    "for i in range(4):\n",
    "    fila = []\n",
    "    \n",
    "    for j in range(4):\n",
    "        # numero_aleatorio = i\n",
    "        # numero_aleatorio = j\n",
    "        numero_aleatorio = random.randint(1, 100)\n",
    "        fila.append(numero_aleatorio)\n",
    "    \n",
    "    matriz.append(fila)\n",
    "    \n",
    "np.array(matriz)"
   ]
  },
  {
   "cell_type": "code",
   "execution_count": 18,
   "id": "a7ecb18b-aff0-4806-9ae2-84798f8c453b",
   "metadata": {},
   "outputs": [
    {
     "data": {
      "text/plain": [
       "array([[ 20,  14,  98,  71],\n",
       "       [ 42,  51,  46,  25],\n",
       "       [ 77,  54,  35, 100],\n",
       "       [ 27,  23,  28,  94]])"
      ]
     },
     "execution_count": 18,
     "metadata": {},
     "output_type": "execute_result"
    }
   ],
   "source": [
    "np.array([[random.randint(1, 100) for j in range(4)] for i in range(4)])"
   ]
  },
  {
   "cell_type": "markdown",
   "id": "110e057c-629b-4991-a908-eb7677bfa647",
   "metadata": {},
   "source": [
    "### Ejercicio 2:\n",
    "\n",
    "- Define una función que tome como parámetro de entrada 2 valores enteros ($m$, $n$).\n",
    "- La función debe generar, usando la librería _**random**_, una matriz de $mxn$ de números enteros del 1 al 100, usando bucles.\n",
    "- La función debe retornar la matriz, la matriz debe ser un _**np.array()**_."
   ]
  },
  {
   "cell_type": "code",
   "execution_count": null,
   "id": "71ae4ac4-8dae-4b9a-80ec-e67be3509e13",
   "metadata": {},
   "outputs": [],
   "source": [
    "matriz = np.array([[1, 2, 3], [1, 2, 3]])\n",
    "print(matriz)\n",
    "print(matriz.shape) # se pide (m, n)\n",
    "# Uso de bucles for para crear una lista en python y pasarla a array de numpy"
   ]
  },
  {
   "cell_type": "code",
   "execution_count": 32,
   "id": "34f03c12-274f-4fb0-ad23-a9bb28856bfc",
   "metadata": {},
   "outputs": [
    {
     "data": {
      "text/plain": [
       "array([[27, 32, 61, 77]])"
      ]
     },
     "execution_count": 32,
     "metadata": {},
     "output_type": "execute_result"
    }
   ],
   "source": [
    "def generar_matriz(m=4, n=4):\n",
    "    matriz = []\n",
    "    if m <= 0 or n <= 0:\n",
    "        raise ValueError(\"Dimensiones incorrectas\")\n",
    "        #print(\"las dimensiones deben ser mayor de 0.\")\n",
    "        \n",
    "    for i in range(m):\n",
    "        fila = []\n",
    "        for j in range(n):\n",
    "            numero_aleatorio = random.randint(1, 100)\n",
    "            fila.append(numero_aleatorio)\n",
    "        \n",
    "        matriz.append(fila)\n",
    "    return np.array(matriz)\n",
    "    \n",
    "generar_matriz(1, 4)"
   ]
  },
  {
   "cell_type": "code",
   "execution_count": null,
   "id": "268b9042-48df-44fa-a28a-75a32febe065",
   "metadata": {
    "tags": []
   },
   "outputs": [],
   "source": [
    "##############################################################################################################################"
   ]
  }
 ],
 "metadata": {
  "kernelspec": {
   "display_name": "venv",
   "language": "python",
   "name": "python3"
  },
  "language_info": {
   "codemirror_mode": {
    "name": "ipython",
    "version": 3
   },
   "file_extension": ".py",
   "mimetype": "text/x-python",
   "name": "python",
   "nbconvert_exporter": "python",
   "pygments_lexer": "ipython3",
   "version": "3.13.0"
  }
 },
 "nbformat": 4,
 "nbformat_minor": 5
}
