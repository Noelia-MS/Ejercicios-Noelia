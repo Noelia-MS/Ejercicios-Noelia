{
 "cells": [
  {
   "cell_type": "code",
   "execution_count": 1,
   "id": "6104cce1",
   "metadata": {},
   "outputs": [
    {
     "data": {
      "text/html": [
       "\n",
       "            <div>\n",
       "                <p><b>SparkSession - in-memory</b></p>\n",
       "                \n",
       "        <div>\n",
       "            <p><b>SparkContext</b></p>\n",
       "\n",
       "            <p><a href=\"http://7b1368f87ee6:4040\">Spark UI</a></p>\n",
       "\n",
       "            <dl>\n",
       "              <dt>Version</dt>\n",
       "                <dd><code>v3.5.0</code></dd>\n",
       "              <dt>Master</dt>\n",
       "                <dd><code>local[*]</code></dd>\n",
       "              <dt>AppName</dt>\n",
       "                <dd><code>pyspark_ejercicio</code></dd>\n",
       "            </dl>\n",
       "        </div>\n",
       "        \n",
       "            </div>\n",
       "        "
      ],
      "text/plain": [
       "<pyspark.sql.session.SparkSession at 0x7fa220611f90>"
      ]
     },
     "execution_count": 1,
     "metadata": {},
     "output_type": "execute_result"
    }
   ],
   "source": [
    "import pyspark\n",
    "from pyspark.sql import SparkSession\n",
    "\n",
    "spark = SparkSession.builder.appName(\"pyspark_ejercicio\").getOrCreate()\n",
    "spark"
   ]
  },
  {
   "cell_type": "code",
   "execution_count": 2,
   "id": "607c36c9",
   "metadata": {},
   "outputs": [],
   "source": [
    "from pyspark.sql.functions import *\n",
    "from pyspark.sql.types import *"
   ]
  },
  {
   "cell_type": "markdown",
   "id": "865a5c96",
   "metadata": {},
   "source": [
    "### Ejercicio 01:\n",
    "- Leer el csv: `pga_tour_historical.csv`."
   ]
  },
  {
   "cell_type": "code",
   "execution_count": null,
   "id": "30dcb82b",
   "metadata": {},
   "outputs": [],
   "source": [
    "fifa = spark.read.csv(\"Data/pga_tour_historical.csv\", header=True, inferSchema=True)"
   ]
  },
  {
   "cell_type": "markdown",
   "id": "ecdc8308",
   "metadata": {},
   "source": [
    "### Ejercicio 02:\n",
    "- Imprimir Schema."
   ]
  },
  {
   "cell_type": "code",
   "execution_count": 10,
   "id": "472d7747",
   "metadata": {},
   "outputs": [
    {
     "name": "stdout",
     "output_type": "stream",
     "text": [
      "root\n",
      " |-- Player Name: string (nullable = true)\n",
      " |-- Season: integer (nullable = true)\n",
      " |-- Statistic: string (nullable = true)\n",
      " |-- Variable: string (nullable = true)\n",
      " |-- Value: integer (nullable = true)\n",
      "\n"
     ]
    }
   ],
   "source": [
    "fifa.printSchema()"
   ]
  },
  {
   "cell_type": "markdown",
   "id": "b1ad8b6a",
   "metadata": {},
   "source": [
    "### Ejercicio 03:\n",
    "- Modificar los dtypes de las columnas."
   ]
  },
  {
   "cell_type": "code",
   "execution_count": 8,
   "id": "21336ef9",
   "metadata": {},
   "outputs": [],
   "source": [
    "fifa = fifa.withColumn('Season', col('Season').cast(IntegerType())) \\\n",
    "    .withColumn('Value', col('Value').cast(IntegerType()))"
   ]
  },
  {
   "cell_type": "code",
   "execution_count": 9,
   "id": "f37447a2",
   "metadata": {},
   "outputs": [
    {
     "name": "stdout",
     "output_type": "stream",
     "text": [
      "root\n",
      " |-- Player Name: string (nullable = true)\n",
      " |-- Season: integer (nullable = true)\n",
      " |-- Statistic: string (nullable = true)\n",
      " |-- Variable: string (nullable = true)\n",
      " |-- Value: integer (nullable = true)\n",
      "\n"
     ]
    }
   ],
   "source": [
    "fifa.printSchema()"
   ]
  },
  {
   "cell_type": "markdown",
   "id": "de7f9f4d",
   "metadata": {},
   "source": [
    "### Ejercicio 04:\n",
    "- Genera las estadísticas de la columna \"Value\"."
   ]
  },
  {
   "cell_type": "code",
   "execution_count": 15,
   "id": "87154aa7",
   "metadata": {},
   "outputs": [
    {
     "name": "stdout",
     "output_type": "stream",
     "text": [
      "+-------+------------------+\n",
      "|summary|             Value|\n",
      "+-------+------------------+\n",
      "|  count|           2347998|\n",
      "|   mean| 12249.25599595911|\n",
      "| stddev|179434.15932161282|\n",
      "|    min|              -447|\n",
      "|    25%|                 7|\n",
      "|    50%|                58|\n",
      "|    75%|                93|\n",
      "|    max|           9982040|\n",
      "+-------+------------------+\n",
      "\n"
     ]
    }
   ],
   "source": [
    "fifa.select('Value').summary().show()"
   ]
  },
  {
   "cell_type": "markdown",
   "id": "a59b8b95",
   "metadata": {},
   "source": [
    "### Ejercicio 05:\n",
    "- Genera las estadisticas de las columnas \"Value\" y \"Season\"."
   ]
  },
  {
   "cell_type": "code",
   "execution_count": 16,
   "id": "67f7fc62",
   "metadata": {},
   "outputs": [
    {
     "name": "stdout",
     "output_type": "stream",
     "text": [
      "+-------+------------------+------------------+\n",
      "|summary|             Value|            Season|\n",
      "+-------+------------------+------------------+\n",
      "|  count|           2347998|           2740403|\n",
      "|   mean| 12249.25599595911| 2013.973479083186|\n",
      "| stddev|179434.15932161282|2.6070501155146517|\n",
      "|    min|              -447|              2010|\n",
      "|    25%|                 7|              2012|\n",
      "|    50%|                58|              2014|\n",
      "|    75%|                93|              2016|\n",
      "|    max|           9982040|              2018|\n",
      "+-------+------------------+------------------+\n",
      "\n"
     ]
    }
   ],
   "source": [
    "fifa.select('Value', 'Season').summary().show()"
   ]
  },
  {
   "cell_type": "markdown",
   "id": "01b8e4eb",
   "metadata": {},
   "source": [
    "### Ejercicio 06:\n",
    "- Lee el csv de fifa."
   ]
  },
  {
   "cell_type": "code",
   "execution_count": 3,
   "id": "cdb669c0",
   "metadata": {},
   "outputs": [],
   "source": [
    "fifa = spark.read.csv(\"Data/fifa19.csv\", header=True, inferSchema=True)"
   ]
  },
  {
   "cell_type": "markdown",
   "id": "4ebfa1b3",
   "metadata": {},
   "source": [
    "### Ejercicio 07:\n",
    "- Imprime el Schema de fifa."
   ]
  },
  {
   "cell_type": "code",
   "execution_count": 4,
   "id": "bc0223ce",
   "metadata": {
    "scrolled": true
   },
   "outputs": [
    {
     "name": "stdout",
     "output_type": "stream",
     "text": [
      "root\n",
      " |-- _c0: integer (nullable = true)\n",
      " |-- ID: integer (nullable = true)\n",
      " |-- Name: string (nullable = true)\n",
      " |-- Age: integer (nullable = true)\n",
      " |-- Photo: string (nullable = true)\n",
      " |-- Nationality: string (nullable = true)\n",
      " |-- Flag: string (nullable = true)\n",
      " |-- Overall: integer (nullable = true)\n",
      " |-- Potential: integer (nullable = true)\n",
      " |-- Club: string (nullable = true)\n",
      " |-- Club Logo: string (nullable = true)\n",
      " |-- Value: string (nullable = true)\n",
      " |-- Wage: string (nullable = true)\n",
      " |-- Special: integer (nullable = true)\n",
      " |-- Preferred Foot: string (nullable = true)\n",
      " |-- International Reputation: integer (nullable = true)\n",
      " |-- Weak Foot: integer (nullable = true)\n",
      " |-- Skill Moves: integer (nullable = true)\n",
      " |-- Work Rate: string (nullable = true)\n",
      " |-- Body Type: string (nullable = true)\n",
      " |-- Real Face: string (nullable = true)\n",
      " |-- Position: string (nullable = true)\n",
      " |-- Jersey Number: integer (nullable = true)\n",
      " |-- Joined: string (nullable = true)\n",
      " |-- Loaned From: string (nullable = true)\n",
      " |-- Contract Valid Until: string (nullable = true)\n",
      " |-- Height: string (nullable = true)\n",
      " |-- Weight: string (nullable = true)\n",
      " |-- LS: string (nullable = true)\n",
      " |-- ST: string (nullable = true)\n",
      " |-- RS: string (nullable = true)\n",
      " |-- LW: string (nullable = true)\n",
      " |-- LF: string (nullable = true)\n",
      " |-- CF: string (nullable = true)\n",
      " |-- RF: string (nullable = true)\n",
      " |-- RW: string (nullable = true)\n",
      " |-- LAM: string (nullable = true)\n",
      " |-- CAM: string (nullable = true)\n",
      " |-- RAM: string (nullable = true)\n",
      " |-- LM: string (nullable = true)\n",
      " |-- LCM: string (nullable = true)\n",
      " |-- CM: string (nullable = true)\n",
      " |-- RCM: string (nullable = true)\n",
      " |-- RM: string (nullable = true)\n",
      " |-- LWB: string (nullable = true)\n",
      " |-- LDM: string (nullable = true)\n",
      " |-- CDM: string (nullable = true)\n",
      " |-- RDM: string (nullable = true)\n",
      " |-- RWB: string (nullable = true)\n",
      " |-- LB: string (nullable = true)\n",
      " |-- LCB: string (nullable = true)\n",
      " |-- CB: string (nullable = true)\n",
      " |-- RCB: string (nullable = true)\n",
      " |-- RB: string (nullable = true)\n",
      " |-- Crossing: integer (nullable = true)\n",
      " |-- Finishing: integer (nullable = true)\n",
      " |-- HeadingAccuracy: integer (nullable = true)\n",
      " |-- ShortPassing: integer (nullable = true)\n",
      " |-- Volleys: integer (nullable = true)\n",
      " |-- Dribbling: integer (nullable = true)\n",
      " |-- Curve: integer (nullable = true)\n",
      " |-- FKAccuracy: integer (nullable = true)\n",
      " |-- LongPassing: integer (nullable = true)\n",
      " |-- BallControl: integer (nullable = true)\n",
      " |-- Acceleration: integer (nullable = true)\n",
      " |-- SprintSpeed: integer (nullable = true)\n",
      " |-- Agility: integer (nullable = true)\n",
      " |-- Reactions: integer (nullable = true)\n",
      " |-- Balance: integer (nullable = true)\n",
      " |-- ShotPower: integer (nullable = true)\n",
      " |-- Jumping: integer (nullable = true)\n",
      " |-- Stamina: integer (nullable = true)\n",
      " |-- Strength: integer (nullable = true)\n",
      " |-- LongShots: integer (nullable = true)\n",
      " |-- Aggression: integer (nullable = true)\n",
      " |-- Interceptions: integer (nullable = true)\n",
      " |-- Positioning: integer (nullable = true)\n",
      " |-- Vision: integer (nullable = true)\n",
      " |-- Penalties: integer (nullable = true)\n",
      " |-- Composure: integer (nullable = true)\n",
      " |-- Marking: integer (nullable = true)\n",
      " |-- StandingTackle: integer (nullable = true)\n",
      " |-- SlidingTackle: integer (nullable = true)\n",
      " |-- GKDiving: integer (nullable = true)\n",
      " |-- GKHandling: integer (nullable = true)\n",
      " |-- GKKicking: integer (nullable = true)\n",
      " |-- GKPositioning: integer (nullable = true)\n",
      " |-- GKReflexes: integer (nullable = true)\n",
      " |-- Release Clause: string (nullable = true)\n",
      "\n"
     ]
    }
   ],
   "source": [
    "fifa.printSchema()"
   ]
  },
  {
   "cell_type": "markdown",
   "id": "76a07c8a",
   "metadata": {},
   "source": [
    "### Ejercicio 08:\n",
    "- Selecciona las columnas \"Name\" y \"Position\" y ordenalas por \"Name\"."
   ]
  },
  {
   "cell_type": "code",
   "execution_count": 5,
   "id": "e6891976",
   "metadata": {},
   "outputs": [
    {
     "name": "stdout",
     "output_type": "stream",
     "text": [
      "+-------------+--------+\n",
      "|         Name|Position|\n",
      "+-------------+--------+\n",
      "|     A. Abang|      ST|\n",
      "|A. Abdellaoui|      LB|\n",
      "| A. Abdennour|      CB|\n",
      "|      A. Abdi|      CM|\n",
      "|A. Abdu Jaber|      ST|\n",
      "+-------------+--------+\n",
      "only showing top 5 rows\n",
      "\n"
     ]
    }
   ],
   "source": [
    "fifa.select('Name', 'Position').orderBy(fifa['Name']).show(5)"
   ]
  },
  {
   "cell_type": "markdown",
   "id": "fcc1b51e",
   "metadata": {},
   "source": [
    "### Ejercicio 09:\n",
    "- Selecciona a los jugadores cuyo club comience por \"FC\"."
   ]
  },
  {
   "cell_type": "code",
   "execution_count": 33,
   "id": "3ab48e3d",
   "metadata": {},
   "outputs": [
    {
     "name": "stdout",
     "output_type": "stream",
     "text": [
      "+---------------+\n",
      "|           name|\n",
      "+---------------+\n",
      "|       L. Messi|\n",
      "|      L. Suárez|\n",
      "| R. Lewandowski|\n",
      "|  M. ter Stegen|\n",
      "|Sergio Busquets|\n",
      "|       M. Neuer|\n",
      "|   J. Rodríguez|\n",
      "|       Coutinho|\n",
      "|     M. Hummels|\n",
      "|      S. Umtiti|\n",
      "|     Jordi Alba|\n",
      "|     I. Rakitić|\n",
      "|          Piqué|\n",
      "|      T. Müller|\n",
      "|         Thiago|\n",
      "|     J. Kimmich|\n",
      "|       D. Alaba|\n",
      "|     Y. Brahimi|\n",
      "|     J. Boateng|\n",
      "|       A. Vidal|\n",
      "+---------------+\n",
      "only showing top 20 rows\n",
      "\n"
     ]
    }
   ],
   "source": [
    "fifa.select('name')\\\n",
    "    .where(fifa.Club.startswith(\"FC\")).show()"
   ]
  },
  {
   "cell_type": "markdown",
   "id": "b36f5f91",
   "metadata": {},
   "source": [
    "### Ejercicio 10\n",
    "- Cual es el jugador mas joven y cual es el mas viejo."
   ]
  },
  {
   "cell_type": "code",
   "execution_count": 6,
   "id": "ff13960b",
   "metadata": {},
   "outputs": [
    {
     "name": "stdout",
     "output_type": "stream",
     "text": [
      "+---------+---+\n",
      "|     Name|Age|\n",
      "+---------+---+\n",
      "|B. Nygren| 16|\n",
      "+---------+---+\n",
      "only showing top 1 row\n",
      "\n"
     ]
    }
   ],
   "source": [
    "fifa.select('Name', 'Age').orderBy(fifa['age'].asc()).show(1)"
   ]
  },
  {
   "cell_type": "code",
   "execution_count": 7,
   "id": "a93fca9b",
   "metadata": {},
   "outputs": [
    {
     "name": "stdout",
     "output_type": "stream",
     "text": [
      "+--------+---+\n",
      "|    Name|Age|\n",
      "+--------+---+\n",
      "|O. Pérez| 45|\n",
      "+--------+---+\n",
      "only showing top 1 row\n",
      "\n"
     ]
    }
   ],
   "source": [
    "fifa.select('Name', 'Age').orderBy(fifa['age'].desc()).show(1)"
   ]
  },
  {
   "cell_type": "markdown",
   "id": "dfa1407f",
   "metadata": {},
   "source": [
    "### Ejercicio 11:\n",
    "- Selecciona a los siguiente jugadores:\n",
    "\n",
    " - L. Messi\n",
    " - Cristiano Ronaldo"
   ]
  },
  {
   "cell_type": "code",
   "execution_count": 15,
   "id": "7b8eb904",
   "metadata": {},
   "outputs": [
    {
     "name": "stdout",
     "output_type": "stream",
     "text": [
      "+---+------+-----------------+---+--------------------+-----------+--------------------+-------+---------+------------+--------------------+-------+-----+-------+--------------+------------------------+---------+-----------+--------------+----------+---------+--------+-------------+------------+-----------+--------------------+------+------+----+----+----+----+----+----+----+----+----+----+----+----+----+----+----+----+----+----+----+----+----+----+----+----+----+----+--------+---------+---------------+------------+-------+---------+-----+----------+-----------+-----------+------------+-----------+-------+---------+-------+---------+-------+-------+--------+---------+----------+-------------+-----------+------+---------+---------+-------+--------------+-------------+--------+----------+---------+-------------+----------+--------------+\n",
      "|_c0|    ID|             Name|Age|               Photo|Nationality|                Flag|Overall|Potential|        Club|           Club Logo|  Value| Wage|Special|Preferred Foot|International Reputation|Weak Foot|Skill Moves|     Work Rate| Body Type|Real Face|Position|Jersey Number|      Joined|Loaned From|Contract Valid Until|Height|Weight|  LS|  ST|  RS|  LW|  LF|  CF|  RF|  RW| LAM| CAM| RAM|  LM| LCM|  CM| RCM|  RM| LWB| LDM| CDM| RDM| RWB|  LB| LCB|  CB| RCB|  RB|Crossing|Finishing|HeadingAccuracy|ShortPassing|Volleys|Dribbling|Curve|FKAccuracy|LongPassing|BallControl|Acceleration|SprintSpeed|Agility|Reactions|Balance|ShotPower|Jumping|Stamina|Strength|LongShots|Aggression|Interceptions|Positioning|Vision|Penalties|Composure|Marking|StandingTackle|SlidingTackle|GKDiving|GKHandling|GKKicking|GKPositioning|GKReflexes|Release Clause|\n",
      "+---+------+-----------------+---+--------------------+-----------+--------------------+-------+---------+------------+--------------------+-------+-----+-------+--------------+------------------------+---------+-----------+--------------+----------+---------+--------+-------------+------------+-----------+--------------------+------+------+----+----+----+----+----+----+----+----+----+----+----+----+----+----+----+----+----+----+----+----+----+----+----+----+----+----+--------+---------+---------------+------------+-------+---------+-----+----------+-----------+-----------+------------+-----------+-------+---------+-------+---------+-------+-------+--------+---------+----------+-------------+-----------+------+---------+---------+-------+--------------+-------------+--------+----------+---------+-------------+----------+--------------+\n",
      "|  0|158023|         L. Messi| 31|https://cdn.sofif...|  Argentina|https://cdn.sofif...|     94|       94|FC Barcelona|https://cdn.sofif...|€110.5M|€565K|   2202|          Left|                       5|        4|          4|Medium/ Medium|     Messi|      Yes|      RF|           10| Jul 1, 2004|       NULL|                2021|   5'7|159lbs|88+2|88+2|88+2|92+2|93+2|93+2|93+2|92+2|93+2|93+2|93+2|91+2|84+2|84+2|84+2|91+2|64+2|61+2|61+2|61+2|64+2|59+2|47+2|47+2|47+2|59+2|      84|       95|             70|          90|     86|       97|   93|        94|         87|         96|          91|         86|     91|       95|     95|       85|     68|     72|      59|       94|        48|           22|         94|    94|       75|       96|     33|            28|           26|       6|        11|       15|           14|         8|       €226.5M|\n",
      "|  1| 20801|Cristiano Ronaldo| 33|https://cdn.sofif...|   Portugal|https://cdn.sofif...|     94|       94|    Juventus|https://cdn.sofif...|   €77M|€405K|   2228|         Right|                       5|        4|          5|     High/ Low|C. Ronaldo|      Yes|      ST|            7|Jul 10, 2018|       NULL|                2022|   6'2|183lbs|91+3|91+3|91+3|89+3|90+3|90+3|90+3|89+3|88+3|88+3|88+3|88+3|81+3|81+3|81+3|88+3|65+3|61+3|61+3|61+3|65+3|61+3|53+3|53+3|53+3|61+3|      84|       94|             89|          81|     87|       88|   81|        76|         77|         94|          89|         91|     87|       96|     70|       95|     95|     88|      79|       93|        63|           29|         95|    82|       85|       95|     28|            31|           23|       7|        11|       15|           14|        11|       €127.1M|\n",
      "+---+------+-----------------+---+--------------------+-----------+--------------------+-------+---------+------------+--------------------+-------+-----+-------+--------------+------------------------+---------+-----------+--------------+----------+---------+--------+-------------+------------+-----------+--------------------+------+------+----+----+----+----+----+----+----+----+----+----+----+----+----+----+----+----+----+----+----+----+----+----+----+----+----+----+--------+---------+---------------+------------+-------+---------+-----+----------+-----------+-----------+------------+-----------+-------+---------+-------+---------+-------+-------+--------+---------+----------+-------------+-----------+------+---------+---------+-------+--------------+-------------+--------+----------+---------+-------------+----------+--------------+\n",
      "\n"
     ]
    }
   ],
   "source": [
    "fifa[fifa.Name.isin('L. Messi', 'Cristiano Ronaldo')].show()"
   ]
  },
  {
   "cell_type": "markdown",
   "id": "e3623f3c",
   "metadata": {},
   "source": [
    "### Ejercicio 12:\n",
    "- En que moneda le pagan a los jugadores? \"Release Clause\"."
   ]
  },
  {
   "cell_type": "code",
   "execution_count": 21,
   "id": "9cb47cb0",
   "metadata": {},
   "outputs": [
    {
     "name": "stdout",
     "output_type": "stream",
     "text": [
      "+------+\n",
      "|Moneda|\n",
      "+------+\n",
      "|     €|\n",
      "+------+\n",
      "only showing top 1 row\n",
      "\n"
     ]
    }
   ],
   "source": [
    "fifa.select(col('Release Clause').substr(1,1).alias('Moneda')).show(1)"
   ]
  },
  {
   "cell_type": "markdown",
   "id": "12bc2212",
   "metadata": {},
   "source": [
    "### Ejercicio 13:\n",
    "- Selecciona a los jugadores:\n",
    "    - mayores de 20 años\n",
    "    - overall mayor a 40\n",
    "    - nacionalidad española o inglesa"
   ]
  },
  {
   "cell_type": "code",
   "execution_count": 26,
   "id": "b519c562",
   "metadata": {},
   "outputs": [
    {
     "name": "stdout",
     "output_type": "stream",
     "text": [
      "+---------------+---+-------+-----------+\n",
      "|           name|age|overall|nationality|\n",
      "+---------------+---+-------+-----------+\n",
      "|         De Gea| 27|     91|      Spain|\n",
      "|   Sergio Ramos| 32|     91|      Spain|\n",
      "|    David Silva| 32|     90|      Spain|\n",
      "|        H. Kane| 24|     89|    England|\n",
      "|Sergio Busquets| 29|     89|      Spain|\n",
      "|           Isco| 26|     88|      Spain|\n",
      "|     Jordi Alba| 29|     87|      Spain|\n",
      "|          Piqué| 31|     87|      Spain|\n",
      "|    R. Sterling| 23|     86|    England|\n",
      "|         Thiago| 27|     86|      Spain|\n",
      "|    Azpilicueta| 28|     86|      Spain|\n",
      "|        Iniesta| 34|     86|      Spain|\n",
      "|  Marco Asensio| 22|     85|      Spain|\n",
      "|           Saúl| 23|     85|      Spain|\n",
      "|           Koke| 26|     85|      Spain|\n",
      "|         Parejo| 29|     85|      Spain|\n",
      "|    Diego Costa| 29|     85|      Spain|\n",
      "|        D. Alli| 22|     84|    England|\n",
      "|       Carvajal| 26|     84|      Spain|\n",
      "|     Iago Aspas| 30|     84|      Spain|\n",
      "+---------------+---+-------+-----------+\n",
      "only showing top 20 rows\n",
      "\n"
     ]
    }
   ],
   "source": [
    "fifa.select('name', 'age', 'overall', 'nationality')\\\n",
    "    .filter(\"age > 20 AND overall > 40 AND (nationality = 'Spain' OR nationality = 'England')\").show()"
   ]
  },
  {
   "cell_type": "markdown",
   "id": "0959aae4",
   "metadata": {},
   "source": [
    "### Ejercicio 14:\n",
    "- Leer el csv: `Rep_vs_Dem_tweets.csv`."
   ]
  },
  {
   "cell_type": "code",
   "execution_count": 29,
   "id": "764ffcca",
   "metadata": {},
   "outputs": [
    {
     "name": "stdout",
     "output_type": "stream",
     "text": [
      "+--------------------+-------------+--------------------+\n",
      "|               Party|       Handle|               Tweet|\n",
      "+--------------------+-------------+--------------------+\n",
      "|            Democrat|RepDarrenSoto|Today, Senate Dem...|\n",
      "|            Democrat|RepDarrenSoto|RT @WinterHavenSu...|\n",
      "|            Democrat|RepDarrenSoto|RT @NBCLatino: .@...|\n",
      "|Congress has allo...|         NULL|                NULL|\n",
      "|            Democrat|RepDarrenSoto|RT @NALCABPolicy:...|\n",
      "|            Democrat|RepDarrenSoto|RT @Vegalteno: Hu...|\n",
      "|            Democrat|RepDarrenSoto|RT @EmgageActionF...|\n",
      "|            Democrat|RepDarrenSoto|Hurricane Maria l...|\n",
      "|            Democrat|RepDarrenSoto|RT @Tharryry: I a...|\n",
      "|            Democrat|RepDarrenSoto|RT @HispanicCaucu...|\n",
      "+--------------------+-------------+--------------------+\n",
      "only showing top 10 rows\n",
      "\n"
     ]
    }
   ],
   "source": [
    "df = spark.read.csv(\"Data/Rep_vs_Dem_tweets.csv\", header=True, inferSchema=True)\n",
    "df.show(10)"
   ]
  },
  {
   "cell_type": "markdown",
   "id": "1b9ebf9c",
   "metadata": {},
   "source": [
    "### Ejercicio 15:\n",
    "- Cambiar los valores de la columna \"Party\" que no sean \"Republican\" o \"Democrat\" a \"Other\"."
   ]
  },
  {
   "cell_type": "code",
   "execution_count": 41,
   "id": "beccb5ac",
   "metadata": {},
   "outputs": [
    {
     "name": "stdout",
     "output_type": "stream",
     "text": [
      "+--------+-------------+--------------------+\n",
      "|   Party|       Handle|               Tweet|\n",
      "+--------+-------------+--------------------+\n",
      "|Democrat|RepDarrenSoto|Today, Senate Dem...|\n",
      "|Democrat|RepDarrenSoto|RT @WinterHavenSu...|\n",
      "|Democrat|RepDarrenSoto|RT @NBCLatino: .@...|\n",
      "|   Other|         NULL|                NULL|\n",
      "|Democrat|RepDarrenSoto|RT @NALCABPolicy:...|\n",
      "|Democrat|RepDarrenSoto|RT @Vegalteno: Hu...|\n",
      "|Democrat|RepDarrenSoto|RT @EmgageActionF...|\n",
      "|Democrat|RepDarrenSoto|Hurricane Maria l...|\n",
      "|Democrat|RepDarrenSoto|RT @Tharryry: I a...|\n",
      "|Democrat|RepDarrenSoto|RT @HispanicCaucu...|\n",
      "+--------+-------------+--------------------+\n",
      "only showing top 10 rows\n",
      "\n"
     ]
    }
   ],
   "source": [
    "df= df.withColumn('Party', when((df.Party != 'Republican')\\\n",
    "    & (df.Party != 'Democrat'), 'Other').otherwise(df.Party))\n",
    "df.show(10)"
   ]
  },
  {
   "cell_type": "code",
   "execution_count": 42,
   "id": "c4b86078",
   "metadata": {},
   "outputs": [
    {
     "name": "stdout",
     "output_type": "stream",
     "text": [
      "+----------+-----+\n",
      "|     Party|count|\n",
      "+----------+-----+\n",
      "|  Democrat|42068|\n",
      "|     Other| 6028|\n",
      "|Republican|44392|\n",
      "|      NULL|    1|\n",
      "+----------+-----+\n",
      "\n"
     ]
    }
   ],
   "source": [
    "df.groupBy(\"Party\").count().show()"
   ]
  },
  {
   "cell_type": "code",
   "execution_count": null,
   "id": "bcccd02d",
   "metadata": {},
   "outputs": [],
   "source": []
  },
  {
   "cell_type": "markdown",
   "id": "a80e4446",
   "metadata": {},
   "source": [
    "### Ejercicio 16:\n",
    "- Renombra la columna \"Party\" a \"Dem_Rep\".\n",
    "    - Usa .withColumnRenamed()"
   ]
  },
  {
   "cell_type": "code",
   "execution_count": 46,
   "id": "9cd51c26",
   "metadata": {},
   "outputs": [
    {
     "name": "stdout",
     "output_type": "stream",
     "text": [
      "+--------+-------------+--------------------+\n",
      "| Dem_Rep|       Handle|               Tweet|\n",
      "+--------+-------------+--------------------+\n",
      "|Democrat|RepDarrenSoto|Today, Senate Dem...|\n",
      "+--------+-------------+--------------------+\n",
      "only showing top 1 row\n",
      "\n"
     ]
    }
   ],
   "source": [
    "df= df.withColumnRenamed('Party', 'Dem_Rep')\n",
    "df.show(1)"
   ]
  },
  {
   "cell_type": "markdown",
   "id": "7b60a0d5",
   "metadata": {},
   "source": [
    "### Ejercicio 17:\n",
    "- Concatena la columna \"Handle\" con \"Dem_Rep\"."
   ]
  },
  {
   "cell_type": "code",
   "execution_count": 48,
   "id": "2b882afa",
   "metadata": {},
   "outputs": [
    {
     "name": "stdout",
     "output_type": "stream",
     "text": [
      "+--------+-------------+--------------------+--------------------+\n",
      "| Dem_Rep|       Handle|               Tweet|      Handle_Dem_Rep|\n",
      "+--------+-------------+--------------------+--------------------+\n",
      "|Democrat|RepDarrenSoto|Today, Senate Dem...|RepDarrenSoto_Dem...|\n",
      "+--------+-------------+--------------------+--------------------+\n",
      "only showing top 1 row\n",
      "\n"
     ]
    }
   ],
   "source": [
    "df = df.withColumn(\"Handle_Dem_Rep\", concat_ws(\"_\", df.Handle, df.Dem_Rep))\n",
    "df.show(1)"
   ]
  },
  {
   "cell_type": "markdown",
   "id": "c861ea93",
   "metadata": {},
   "source": [
    "### Ejercicio 18:\n",
    "- Cuales tweets tienen la palabra \"vote\"."
   ]
  },
  {
   "cell_type": "code",
   "execution_count": 53,
   "id": "8183f042",
   "metadata": {},
   "outputs": [
    {
     "name": "stdout",
     "output_type": "stream",
     "text": [
      "+--------+-------------+--------------------+--------------------+\n",
      "| Dem_Rep|       Handle|               Tweet|      Handle_Dem_Rep|\n",
      "+--------+-------------+--------------------+--------------------+\n",
      "|Democrat|RepDarrenSoto|Today, Senate Dem...|RepDarrenSoto_Dem...|\n",
      "|Democrat|RepDarrenSoto|RT @WinterHavenSu...|RepDarrenSoto_Dem...|\n",
      "|Democrat|RepDarrenSoto|RT @carlosvotero:...|RepDarrenSoto_Dem...|\n",
      "|Democrat|RepDarrenSoto|RT @GWULULAC: “It...|RepDarrenSoto_Dem...|\n",
      "|Democrat|RepJackyRosen|I’m deeply disapp...|RepJackyRosen_Dem...|\n",
      "|Democrat|RepAlLawsonJr|I'm pleased to ge...|RepAlLawsonJr_Dem...|\n",
      "|Democrat| RepEspaillat|Despite overwhelm...|RepEspaillat_Demo...|\n",
      "|Democrat|RepBRochester|Today, I voted ag...|RepBRochester_Dem...|\n",
      "|Democrat|RepBRochester|This week, I join...|RepBRochester_Dem...|\n",
      "|Democrat|RepBRochester|Last night, I vot...|RepBRochester_Dem...|\n",
      "|Democrat|  RepBarragan|@2UrbanGirls @jfm...|RepBarragan_Democrat|\n",
      "|Democrat| RepTomSuozzi|Proud to have vot...|RepTomSuozzi_Demo...|\n",
      "|Democrat| RepTomSuozzi|Stop the vote! I ...|RepTomSuozzi_Demo...|\n",
      "|Democrat|  RepRoKhanna|Today, Senate Dem...|RepRoKhanna_Democrat|\n",
      "|Democrat|  RepRoKhanna|RT @SenMarkey: Th...|RepRoKhanna_Democrat|\n",
      "|Democrat|  RepRoKhanna|Tomorrow a very i...|RepRoKhanna_Democrat|\n",
      "|Democrat|  RepRoKhanna|RT @matteroffactt...|RepRoKhanna_Democrat|\n",
      "|Democrat|  RepRoKhanna|The @FCC took awa...|RepRoKhanna_Democrat|\n",
      "|Democrat|  RepRoKhanna|Senate Democrats ...|RepRoKhanna_Democrat|\n",
      "|Democrat|  RepRoKhanna|South Carolina’s ...|RepRoKhanna_Democrat|\n",
      "+--------+-------------+--------------------+--------------------+\n",
      "only showing top 20 rows\n",
      "\n"
     ]
    }
   ],
   "source": [
    "vote= df.filter(df.Tweet.contains('vote'))\n",
    "vote.show()"
   ]
  },
  {
   "cell_type": "code",
   "execution_count": 52,
   "id": "40f6731a",
   "metadata": {},
   "outputs": [
    {
     "data": {
      "text/plain": [
       "2062"
      ]
     },
     "execution_count": 52,
     "metadata": {},
     "output_type": "execute_result"
    }
   ],
   "source": [
    "vote.count()"
   ]
  },
  {
   "cell_type": "code",
   "execution_count": null,
   "id": "e84ecfce",
   "metadata": {},
   "outputs": [],
   "source": []
  },
  {
   "cell_type": "markdown",
   "id": "9a5a8837",
   "metadata": {},
   "source": [
    "### Ejercicio 19:\n",
    "- Cargar el csv: `nyc_air_bnb.csv`. "
   ]
  },
  {
   "cell_type": "code",
   "execution_count": 54,
   "id": "719204dc",
   "metadata": {},
   "outputs": [
    {
     "name": "stdout",
     "output_type": "stream",
     "text": [
      "+----+--------------------+-------+-----------+-------------------+-------------+--------+---------+---------------+-----+--------------+-----------------+-----------+-----------------+------------------------------+----------------+\n",
      "|  id|                name|host_id|  host_name|neighbourhood_group|neighbourhood|latitude|longitude|      room_type|price|minimum_nights|number_of_reviews|last_review|reviews_per_month|calculated_host_listings_count|availability_365|\n",
      "+----+--------------------+-------+-----------+-------------------+-------------+--------+---------+---------------+-----+--------------+-----------------+-----------+-----------------+------------------------------+----------------+\n",
      "|2539|Clean & quiet apt...|   2787|       John|           Brooklyn|   Kensington|40.64749|-73.97237|   Private room|  149|             1|                9| 2018-10-19|             0.21|                             6|             365|\n",
      "|2595|Skylit Midtown Ca...|   2845|   Jennifer|          Manhattan|      Midtown|40.75362|-73.98377|Entire home/apt|  225|             1|               45| 2019-05-21|             0.38|                             2|             355|\n",
      "|3647|THE VILLAGE OF HA...|   4632|  Elisabeth|          Manhattan|       Harlem|40.80902| -73.9419|   Private room|  150|             3|                0|       NULL|             NULL|                             1|             365|\n",
      "|3831|Cozy Entire Floor...|   4869|LisaRoxanne|           Brooklyn| Clinton Hill|40.68514|-73.95976|Entire home/apt|   89|             1|              270| 2019-07-05|             4.64|                             1|             194|\n",
      "|5022|Entire Apt: Spaci...|   7192|      Laura|          Manhattan|  East Harlem|40.79851|-73.94399|Entire home/apt|   80|            10|                9| 2018-11-19|             0.10|                             1|               0|\n",
      "+----+--------------------+-------+-----------+-------------------+-------------+--------+---------+---------------+-----+--------------+-----------------+-----------+-----------------+------------------------------+----------------+\n",
      "only showing top 5 rows\n",
      "\n"
     ]
    }
   ],
   "source": [
    "df = spark.read.csv(\"Data/nyc_air_bnb.csv\", header=True, inferSchema=True)\n",
    "df.show(5)"
   ]
  },
  {
   "cell_type": "markdown",
   "id": "2214365b",
   "metadata": {},
   "source": [
    "### Ejercicio 20:\n",
    "- Imprimir Schema."
   ]
  },
  {
   "cell_type": "code",
   "execution_count": 55,
   "id": "e0f9a5a6",
   "metadata": {},
   "outputs": [
    {
     "name": "stdout",
     "output_type": "stream",
     "text": [
      "root\n",
      " |-- id: string (nullable = true)\n",
      " |-- name: string (nullable = true)\n",
      " |-- host_id: string (nullable = true)\n",
      " |-- host_name: string (nullable = true)\n",
      " |-- neighbourhood_group: string (nullable = true)\n",
      " |-- neighbourhood: string (nullable = true)\n",
      " |-- latitude: string (nullable = true)\n",
      " |-- longitude: string (nullable = true)\n",
      " |-- room_type: string (nullable = true)\n",
      " |-- price: string (nullable = true)\n",
      " |-- minimum_nights: string (nullable = true)\n",
      " |-- number_of_reviews: string (nullable = true)\n",
      " |-- last_review: string (nullable = true)\n",
      " |-- reviews_per_month: string (nullable = true)\n",
      " |-- calculated_host_listings_count: string (nullable = true)\n",
      " |-- availability_365: integer (nullable = true)\n",
      "\n"
     ]
    }
   ],
   "source": [
    "df.printSchema()"
   ]
  },
  {
   "cell_type": "markdown",
   "id": "41d3bca3",
   "metadata": {},
   "source": [
    "### Ejercicio 21:\n",
    "- Cambiar el formato de las columnas que se asignaron mal."
   ]
  },
  {
   "cell_type": "code",
   "execution_count": 57,
   "id": "48e2b120",
   "metadata": {},
   "outputs": [
    {
     "name": "stdout",
     "output_type": "stream",
     "text": [
      "root\n",
      " |-- id: integer (nullable = true)\n",
      " |-- name: string (nullable = true)\n",
      " |-- host_id: string (nullable = true)\n",
      " |-- host_name: string (nullable = true)\n",
      " |-- neighbourhood_group: string (nullable = true)\n",
      " |-- neighbourhood: string (nullable = true)\n",
      " |-- latitude: double (nullable = true)\n",
      " |-- longitude: double (nullable = true)\n",
      " |-- room_type: string (nullable = true)\n",
      " |-- price: integer (nullable = true)\n",
      " |-- minimum_nights: integer (nullable = true)\n",
      " |-- number_of_reviews: integer (nullable = true)\n",
      " |-- last_review: string (nullable = true)\n",
      " |-- reviews_per_month: double (nullable = true)\n",
      " |-- calculated_host_listings_count: integer (nullable = true)\n",
      " |-- availability_365: integer (nullable = true)\n",
      "\n"
     ]
    }
   ],
   "source": [
    "df = df.withColumn('id', col('id').cast('integer')) \\\n",
    "    .withColumn('latitude', col('latitude').cast('double')) \\\n",
    "    .withColumn('longitude', col('longitude').cast('double')) \\\n",
    "    .withColumn('price', col('price').cast('integer')) \\\n",
    "    .withColumn('minimum_nights', col('minimum_nights').cast('integer')) \\\n",
    "    .withColumn('number_of_reviews', col('number_of_reviews').cast('integer')) \\\n",
    "    .withColumn('reviews_per_month', col('reviews_per_month').cast('double')) \\\n",
    "    .withColumn('calculated_host_listings_count', col('calculated_host_listings_count').cast('integer'))\n",
    "df.printSchema()"
   ]
  },
  {
   "cell_type": "markdown",
   "id": "e5478d4e",
   "metadata": {},
   "source": [
    "### Ejercicio 22:\n",
    "- Cuantas filas tiene el df?"
   ]
  },
  {
   "cell_type": "code",
   "execution_count": 61,
   "id": "3e4d9e04",
   "metadata": {},
   "outputs": [
    {
     "data": {
      "text/plain": [
       "49079"
      ]
     },
     "execution_count": 61,
     "metadata": {},
     "output_type": "execute_result"
    }
   ],
   "source": [
    "df.count()"
   ]
  },
  {
   "cell_type": "markdown",
   "id": "485fe507",
   "metadata": {},
   "source": [
    "### Ejercicio 23:\n",
    "- Cuantos reviews hay por host?"
   ]
  },
  {
   "cell_type": "code",
   "execution_count": 62,
   "id": "d0610750",
   "metadata": {
    "scrolled": true
   },
   "outputs": [
    {
     "name": "stdout",
     "output_type": "stream",
     "text": [
      "+-------+-------------+\n",
      "|host_id|total_reviews|\n",
      "+-------+-------------+\n",
      "| 716306|          197|\n",
      "|1203500|           35|\n",
      "| 368528|            1|\n",
      "|1577493|           16|\n",
      "|1390555|           50|\n",
      "|1317588|            3|\n",
      "|2472680|          219|\n",
      "|2155832|          266|\n",
      "|2426404|            6|\n",
      "|2740824|           22|\n",
      "| 192750|            2|\n",
      "|2682735|           50|\n",
      "|4432173|           15|\n",
      "|5959653|          240|\n",
      "|4623093|           79|\n",
      "|6390340|            0|\n",
      "|4645357|          165|\n",
      "|8422502|            2|\n",
      "|9818634|            0|\n",
      "|4906960|           65|\n",
      "+-------+-------------+\n",
      "only showing top 20 rows\n",
      "\n"
     ]
    }
   ],
   "source": [
    "df.groupBy('host_id').agg(sum('number_of_reviews').alias('total_reviews')).show()"
   ]
  },
  {
   "cell_type": "markdown",
   "id": "0cd43ce4",
   "metadata": {},
   "source": [
    "### Ejercicio 24:\n",
    "- Muestra los maximos y minimos de las columnas numericas."
   ]
  },
  {
   "cell_type": "code",
   "execution_count": 69,
   "id": "1260d7b3",
   "metadata": {},
   "outputs": [
    {
     "name": "stdout",
     "output_type": "stream",
     "text": [
      "+--------+------------+-------------+---------+------------------+---------------------+---------------------+----------------------------------+--------------------+------+------------+-------------+---------+------------------+---------------------+---------------------+----------------------------------+--------------------+\n",
      "|  max_id|max_latitude|max_longitude|max_price|max_minimum_nights|max_number_of_reviews|max_reviews_per_month|max_calculated_host_listings_count|max_availability_365|min_id|min_latitude|min_longitude|min_price|min_minimum_nights|min_number_of_reviews|min_reviews_per_month|min_calculated_host_listings_count|min_availability_365|\n",
      "+--------+------------+-------------+---------+------------------+---------------------+---------------------+----------------------------------+--------------------+------+------------+-------------+---------+------------------+---------------------+---------------------+----------------------------------+--------------------+\n",
      "|36487245|    40.91306|  2.4906403E7|    10000|              1250|                  629|                 58.5|                               365|                 365|  2539|   -74.16254|    -74.24442|      -74|                 0|                    0|                  0.0|                                 0|                   0|\n",
      "+--------+------------+-------------+---------+------------------+---------------------+---------------------+----------------------------------+--------------------+------+------------+-------------+---------+------------------+---------------------+---------------------+----------------------------------+--------------------+\n",
      "\n"
     ]
    }
   ],
   "source": [
    "numeric_columns = [field.name for field in df.schema.fields if isinstance(field.dataType, (IntegerType, DoubleType))]\n",
    "\n",
    "summary= df.select(\n",
    "    [max(col).alias(f\"max_{col}\") for col in numeric_columns] + \n",
    "    [min(col).alias(f\"min_{col}\") for col in numeric_columns]\n",
    ")\n",
    "summary.show()"
   ]
  },
  {
   "cell_type": "markdown",
   "id": "60d1493d",
   "metadata": {},
   "source": [
    "### Ejercicio 25:\n",
    "- Cuales hosts tienen el mayor numero de reviews?"
   ]
  },
  {
   "cell_type": "code",
   "execution_count": 73,
   "id": "c0c1e320",
   "metadata": {},
   "outputs": [
    {
     "name": "stdout",
     "output_type": "stream",
     "text": [
      "+--------+-----------------+\n",
      "| host_id|number_of_reviews|\n",
      "+--------+-----------------+\n",
      "|47621202|              629|\n",
      "+--------+-----------------+\n",
      "only showing top 1 row\n",
      "\n"
     ]
    }
   ],
   "source": [
    "df.select('host_id', 'number_of_reviews').orderBy(df['number_of_reviews'].desc()).show(1)"
   ]
  },
  {
   "cell_type": "markdown",
   "id": "68cc0975",
   "metadata": {},
   "source": [
    "### Ejercicio 26:\n",
    "- Cual es la media del minimo de noches?"
   ]
  },
  {
   "cell_type": "code",
   "execution_count": 74,
   "id": "735df052",
   "metadata": {},
   "outputs": [
    {
     "name": "stdout",
     "output_type": "stream",
     "text": [
      "+-------+------------------+\n",
      "|summary|    minimum_nights|\n",
      "+-------+------------------+\n",
      "|   mean|7.1286126280910596|\n",
      "+-------+------------------+\n",
      "\n"
     ]
    }
   ],
   "source": [
    "df.select('minimum_nights').summary('mean').show()"
   ]
  },
  {
   "cell_type": "code",
   "execution_count": 75,
   "id": "b1271496",
   "metadata": {},
   "outputs": [
    {
     "name": "stdout",
     "output_type": "stream",
     "text": [
      "+--------------------+\n",
      "|media_minimum_nights|\n",
      "+--------------------+\n",
      "|  7.1286126280910596|\n",
      "+--------------------+\n",
      "\n"
     ]
    }
   ],
   "source": [
    "df.select(avg('minimum_nights').alias('media_minimum_nights')).show()"
   ]
  },
  {
   "cell_type": "markdown",
   "id": "aeede2a6",
   "metadata": {},
   "source": [
    "### Ejercicio 27:\n",
    "- En promedio, cual es el barrio mas caro?"
   ]
  },
  {
   "cell_type": "code",
   "execution_count": 86,
   "id": "73799fb8",
   "metadata": {},
   "outputs": [
    {
     "name": "stdout",
     "output_type": "stream",
     "text": [
      "+--------------+------------+\n",
      "| neighbourhood|precio_medio|\n",
      "+--------------+------------+\n",
      "|Fort Wadsworth|       800.0|\n",
      "+--------------+------------+\n",
      "\n"
     ]
    }
   ],
   "source": [
    "promedio = df.groupBy('neighbourhood').agg(avg('price').alias('precio_medio'))\n",
    "promedio.orderBy('precio_medio', ascending=False).limit(1).show()"
   ]
  }
 ],
 "metadata": {
  "kernelspec": {
   "display_name": "Python 3 (ipykernel)",
   "language": "python",
   "name": "python3"
  },
  "language_info": {
   "codemirror_mode": {
    "name": "ipython",
    "version": 3
   },
   "file_extension": ".py",
   "mimetype": "text/x-python",
   "name": "python",
   "nbconvert_exporter": "python",
   "pygments_lexer": "ipython3",
   "version": "3.11.6"
  }
 },
 "nbformat": 4,
 "nbformat_minor": 5
}
